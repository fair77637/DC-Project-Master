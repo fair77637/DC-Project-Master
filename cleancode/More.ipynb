{
 "cells": [
  {
   "cell_type": "code",
   "execution_count": 3,
   "metadata": {
    "collapsed": false
   },
   "outputs": [],
   "source": [
    "import core\n",
    "path = '/Users/fair00542/Desktop/TestImages/ScanB/ScanB/1.3.12.2.1107.5.1.4.51967.30000014110308064564000003661.dcm'\n",
    "if path.endswith('.nii') or path.endswith('.nii.gz'):\n",
    "    array, ConstPixelSpacing, affine = core.nifti2np(path)\n",
    "    bone = core.thresholdnp(array, 1100, 1500)\n",
    "    softtissue  = core.thresholdnp(array, 0, 80)\n",
    "\n",
    "elif path.endswith('.dcm'):\n",
    "    array, ConstPixelSpacing, origin, path, affine = core.dicom2np(path)\n",
    "#         bone = core.thresholdnp(array, 900, 1500)\n",
    "    softtissue  = core.thresholdnp(array, 0, 80)\n",
    "\n",
    "elif path.endswith('.nrrd'):\n",
    "    array, ConstPixelSpacing, affine = core.nrrd2np(path)\n",
    "    array=np.swapaxes(array, 0, 1)\n",
    "#         bone = core.thresholdnp(array, 1100, 1500)\n",
    "    softtissue  = core.thresholdnp(array, 0, 80)\n",
    "\n"
   ]
  },
  {
   "cell_type": "code",
   "execution_count": 4,
   "metadata": {
    "collapsed": false
   },
   "outputs": [
    {
     "data": {
      "text/plain": [
       "(0.453125, 0.453125, 1.5035966386554538)"
      ]
     },
     "execution_count": 4,
     "metadata": {},
     "output_type": "execute_result"
    }
   ],
   "source": [
    "ConstPixelSpacing"
   ]
  },
  {
   "cell_type": "code",
   "execution_count": null,
   "metadata": {
    "collapsed": true
   },
   "outputs": [],
   "source": []
  }
 ],
 "metadata": {
  "kernelspec": {
   "display_name": "Python 2",
   "language": "python",
   "name": "python2"
  },
  "language_info": {
   "codemirror_mode": {
    "name": "ipython",
    "version": 2
   },
   "file_extension": ".py",
   "mimetype": "text/x-python",
   "name": "python",
   "nbconvert_exporter": "python",
   "pygments_lexer": "ipython2",
   "version": "2.7.13"
  }
 },
 "nbformat": 4,
 "nbformat_minor": 2
}
