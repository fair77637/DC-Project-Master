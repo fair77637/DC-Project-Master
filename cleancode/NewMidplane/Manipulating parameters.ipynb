{
 "cells": [
  {
   "cell_type": "code",
   "execution_count": 1,
   "metadata": {
    "collapsed": true
   },
   "outputs": [],
   "source": [
    "import numpy as np\n",
    "pre_para = np.load('/Volumes/FAIR/DC-Image-Analysis/DC-project-master/cleancode/NewMidplane/Final_preop.npy')\n",
    "post_para = np.load('/Volumes/FAIR/DC-Image-Analysis/DC-project-master/cleancode/NewMidplane/Final_postop.npy')"
   ]
  },
  {
   "cell_type": "code",
   "execution_count": null,
   "metadata": {
    "collapsed": true
   },
   "outputs": [],
   "source": [
    "### Un-reshaping the a,b,c normal vector seems to make no big difference\n",
    "### orientation of plane will be minorly altered. But there's no need to\n",
    "### results already good enough."
   ]
  },
  {
   "cell_type": "code",
   "execution_count": 7,
   "metadata": {
    "collapsed": false
   },
   "outputs": [
    {
     "name": "stdout",
     "output_type": "stream",
     "text": [
      "iteration number 3\n"
     ]
    }
   ],
   "source": [
    "import nibabel as nib\n",
    "import core\n",
    "import Functions\n",
    "from time import time\n",
    "import os\n",
    "\n",
    "# paths = ['/Volumes/FAIR/Sinead/DC-Project-Images/original/SampleC/SC_Follow.nrrd',\n",
    "#          '/Volumes/FAIR/Sinead/DC-Project-Images/original/SampleD/SD_Post-op.nrrd',\n",
    "#          '/Volumes/FAIR/Sinead/DC-Project-Images/original/SampleG/SG_Post-op.nrrd',\n",
    "#          '/Volumes/FAIR/Sinead/DC-Project-Images/original/SampleH/SH_Post-op.nrrd',\n",
    "#          '/Users/fair00542/Desktop/TestImages/ScanJ/1.2.392.200036.9116.2.6.1.48.1221600807.1432222275.897467.dcm']\n",
    "paths =['/Volumes/FAIR/Sinead/DC-Project-Images/original/Sample3/S3_Pre-op.nrrd',\n",
    "         '/Volumes/FAIR/Sinead/DC-Project-Images/original/SampleF/SF_Pre-op.nrrd',\n",
    "         '/Volumes/FAIR/Sinead/DC-Project-Images/original/SampleG/SG_Pre-op.nrrd',\n",
    "        '/Volumes/FAIR/Sinead/DC-Project-Images/original/SampleB/SB_Pre-op.nrrd',\n",
    "         '/Volumes/FAIR/Sinead/DC-Project-Images/original/SampleC/SC_Pre-op.nrrd',\n",
    "         '/Volumes/FAIR/Sinead/DC-Project-Images/original/SampleD/SD_Pre-op.nrrd',\n",
    "         '/Volumes/FAIR/Sinead/DC-Project-Images/original/SampleH/SH_Pre-op.nrrd',\n",
    "         '/Volumes/FAIR/Sinead/DC-Project-Images/original/SampleI/SI_Pre-op.nrrd',\n",
    "         '/Volumes/FAIR/Sinead/DC-Project-Images/original/Sample4/S4_Pre-op.nrrd',\n",
    "         '/Volumes/FAIR/Sinead/DC-Project-Images/original/Sample5/S5_Pre_rigid.nrrd',\n",
    "         '/Users/fair00542/Desktop/TestImages/ScanA/1.3.12.2.1107.5.1.4.54053.30000014091206552395300024468.dcm',\n",
    "         '/Users/fair00542/Desktop/TestImages/ScanB/1.3.12.2.1107.5.1.4.51967.30000014110308064564000003663.dcm',\n",
    "         '/Users/fair00542/Desktop/TestImages/ScanC/1.3.12.2.1107.5.1.4.95198.30000014121008232151100020392.dcm',\n",
    "         '/Users/fair00542/Desktop/TestImages/ScanD/1.3.12.2.1107.5.1.4.95198.30000015040208110913600035430.dcm',\n",
    "         '/Users/fair00542/Desktop/TestImages/ScanE/1.3.12.2.1107.5.1.4.95198.30000015061008243097400047439.dcm',\n",
    "         '/Users/fair00542/Desktop/TestImages/ScanF/1.3.12.2.1107.5.1.4.95198.30000015051507521609300034666.dcm',\n",
    "         '/Users/fair00542/Desktop/TestImages/ScanG/1.3.12.2.1107.5.1.4.95198.30000015072708211605400036464.dcm',\n",
    "         '/Users/fair00542/Desktop/TestImages/ScanH/1.2.840.113619.2.55.3.2634693835.766.1437720278.192.2.dcm',\n",
    "         '/Users/fair00542/Desktop/TestImages/ScanI/1.3.12.2.1107.5.1.4.95198.30000015071109310409300075668.dcm',\n",
    "         '/Users/fair00542/Desktop/TestImages/ScanJ/1.2.392.200036.9116.2.6.1.48.1221600807.1432222275.897467.dcm']\n",
    "# paths = ['/Volumes/FAIR/Sinead/DC-Project-Images/original/Sample2/S2_Post-op.nrrd',\n",
    "#          '/Volumes/FAIR/Sinead/DC-Project-Images/original/Sample3/S3_Post-op.nrrd',\n",
    "#          '/Volumes/FAIR/Sinead/DC-Project-Images/original/Sample4/S4_Post-op.nrrd',\n",
    "#          '/Volumes/FAIR/Sinead/DC-Project-Images/original/Sample5/S5_Post-op.nrrd',\n",
    "#          '/Volumes/FAIR/Sinead/DC-Project-Images/original/SampleB/SB_Post-op.nrrd',\n",
    "#          '/Volumes/FAIR/Sinead/DC-Project-Images/original/SampleC/SC_Post-op.nrrd',\n",
    "#          '/Volumes/FAIR/Sinead/DC-Project-Images/original/SampleD/SD_Post-op.nrrd',\n",
    "#          '/Volumes/FAIR/Sinead/DC-Project-Images/original/SampleF/SF_Post-op.nrrd',\n",
    "#          '/Volumes/FAIR/Sinead/DC-Project-Images/original/SampleG/SG_Post-op.nrrd',\n",
    "#          '/Volumes/FAIR/Sinead/DC-Project-Images/original/SampleH/SH_Post-op.nrrd',\n",
    "#          '/Volumes/FAIR/Sinead/DC-Project-Images/original/SampleI/SI_Post-op.nrrd']\n",
    "\n",
    "\n",
    "para_List = []\n",
    "# for pathnumber in range(0,len(paths)):\n",
    "for pathnumber in range(3,4):\n",
    "    path = paths[pathnumber]\n",
    "    print 'iteration number', pathnumber\n",
    "    if path.endswith('.nii') or path.endswith('.nii.gz'):\n",
    "        import core\n",
    "        array, ConstPixelSpacing, affine = core.nifti2np(path)\n",
    "    #     bone = core.thresholdnp(array, 1100, 1500)\n",
    "    #     softtissue  = core.thresholdnp(array, 0, 80)\n",
    "        # visual     = core.thresholdnp(self.scan.array, -100, 1500)\n",
    "\n",
    "    elif path.endswith('.dcm'):\n",
    "        import core\n",
    "        array, ConstPixelSpacing, origin, path, affine = core.dicom2np(path)\n",
    "#         maskPath = os.path.join(os.path.split(os.path.dirname(path))[0], 'level2.nii.gz')\n",
    "#         skullPath = os.path.join(os.path.dirname(path), 'skull_contour.nii.gz')\n",
    "        array=np.swapaxes(array, 0, 1)\n",
    "        bone = core.thresholdnp(array, 1100, 1500)\n",
    "        softtissue  = core.thresholdnp(array, 0, 80)\n",
    "\n",
    "    elif path.endswith('.nrrd'):\n",
    "        import core\n",
    "        array, ConstPixelSpacing, affine = core.nrrd2np(path)\n",
    "#         array=np.swapaxes(array, 0, 1)\n",
    "#         bone = core.thresholdnp(array, 800, 1500)\n",
    "        bone = core.thresholdnp(array, 1100, 1500)\n",
    "        softtissue  = core.thresholdnp(array, 0, 80)\n",
    "#         maskPath = os.path.join(os.path.dirname(path), 'level2.nii.gz')\n",
    "#         skullPath = os.path.join(os.path.dirname(path), 'skull_contour.nii.gz')\n",
    "\n",
    "def saveMask(array, path, name):\n",
    "    mask = array.astype(np.float64)\n",
    "#     mask = np.swapaxes(mask, 0, 1)\n",
    "    img = nib.Nifti1Image(mask, affine)\n",
    "    savePath = os.path.join(os.path.split(path)[0], '{}.nii.gz'.format(name))\n",
    "    nib.save(img, savePath)\n",
    "t0 = time()\n",
    "boneReshaped = core.reshape(bone, ConstPixelSpacing)\n",
    "# softtissueReshaped = core.reshape(softtissue,ConstPixelSpacing)\n",
    "arrayReshaped = core.reshape(array,ConstPixelSpacing)\n",
    "\n",
    "# get coordinates of bones\n",
    "X = np.where(boneReshaped>0)\n",
    "X_array = np.where(arrayReshaped>0)\n",
    "# this step exchanges the x y axis.\n",
    "X = np.matrix(np.column_stack((X[0],X[1],X[2])))\n",
    "X_array = np.matrix(np.column_stack((X_array[0],X_array[1],X_array[2])))\n",
    "# Feature Normalization for X matrix\n",
    "os.chdir('/Volumes/FAIR/DC-Image-Analysis/DC-project-master/cleancode/NewMidplane')\n",
    "import Functions\n",
    "# X_norm,mu,std = Functions.featureNormalize(X)\n",
    "X_norm,mu = Functions.featureNormalize(X);\n",
    "m = X.shape[0] #Number of samples\n",
    "p = np.mean(X_array,0); #Points centroid\n",
    "p = np.array(p)[0] #p becomes an array\n",
    "p_original = p/ConstPixelSpacing"
   ]
  },
  {
   "cell_type": "code",
   "execution_count": 2,
   "metadata": {
    "collapsed": false
   },
   "outputs": [
    {
     "data": {
      "text/plain": [
       "array([['Sample3', '0.998621080217', '-0.0464651139757', '0.0244321781527',\n",
       "        '244.800116897'],\n",
       "       ['SampleF', '-0.986255446879', '-0.0702806841374', '0.149535343444',\n",
       "        '-269.192063338'],\n",
       "       ['SampleG', '-0.991564194859', '0.113392231348', '0.0627905195293',\n",
       "        '-213.329995756'],\n",
       "       ['SampleB', '-0.995908948203', '-0.0238588221875',\n",
       "        '0.0871557427477', '-247.843131407'],\n",
       "       ['SampleC', '0.938870184234', '-0.342124470434', '-0.0383878090875',\n",
       "        '138.576711282'],\n",
       "       ['SampleD', '-0.995050811837', '-0.00307720207842',\n",
       "        '0.0993197497436', '-235.231077935'],\n",
       "       ['SampleH', '0.997360168413', '-0.0715782044621',\n",
       "        '-0.0122170008352', '268.55983645'],\n",
       "       ['SampleI', '-0.958246540313', '0.250744022348', '-0.137444546037',\n",
       "        '-180.359126102'],\n",
       "       ['Sample4', '-0.991779210772', '0.127376379172', '0.0122170008352',\n",
       "        '-216.950464997'],\n",
       "       ['Sample5', '-0.979354040684', '-0.182399395566', '0.0871557427477',\n",
       "        '-309.170894415'],\n",
       "       ['ScanA', '-0.99774401887', '0.0441273976463', '0.0505929400767',\n",
       "        '-277.536193191'],\n",
       "       ['ScanB', '-0.996578699293', '-0.065354804943', '0.0505929400767',\n",
       "        '-285.492965504'],\n",
       "       ['ScanC', '-0.989554494522', '0.129766147471', '-0.0627905195293',\n",
       "        '-214.990750277'],\n",
       "       ['ScanD', '-0.991289374078', '0.0987383073884', '0.0871557427477',\n",
       "        '-180.145586964'],\n",
       "       ['ScanE', '-0.994942079556', '-0.0150281615735', '0.0993197497436',\n",
       "        '-238.268336986'],\n",
       "       ['ScanF', '-0.950431260569', '-0.259076829164', '0.171929100279',\n",
       "        '-298.944103933'],\n",
       "       ['ScanG', '-0.998148421212', '0.0595858550499', '-0.0122170008352',\n",
       "        '-239.983419948'],\n",
       "       ['ScanH', '-0.995653774039', '-0.0328243621038', '0.0871557427477',\n",
       "        '-250.345660649'],\n",
       "       ['ScanI', '-0.99177405235', '0.127416537292', '0.0122170008352',\n",
       "        '-216.9385197'],\n",
       "       ['ScanJ.0', '0.956178250418', '-0.0775013237028', '-0.282341456843',\n",
       "        '235.070880667']], \n",
       "      dtype='|S17')"
      ]
     },
     "execution_count": 2,
     "metadata": {},
     "output_type": "execute_result"
    }
   ],
   "source": [
    "pre_para"
   ]
  },
  {
   "cell_type": "code",
   "execution_count": 34,
   "metadata": {
    "collapsed": false
   },
   "outputs": [],
   "source": [
    "a,b,c,d = pre_para[3][1],pre_para[3][2],pre_para[3][3],pre_para[3][4]"
   ]
  },
  {
   "cell_type": "code",
   "execution_count": 60,
   "metadata": {
    "collapsed": false
   },
   "outputs": [],
   "source": [
    "q  = np.zeros((3,1));\n",
    "q[0],q[1],q[2] = a,b,c;"
   ]
  },
  {
   "cell_type": "code",
   "execution_count": 71,
   "metadata": {
    "collapsed": false
   },
   "outputs": [],
   "source": [
    "d = d.astype(float)\n",
    "p_original_opt = np.array([246.83215437,  285.05905282,   54.8488595])"
   ]
  },
  {
   "cell_type": "code",
   "execution_count": 80,
   "metadata": {
    "collapsed": false
   },
   "outputs": [],
   "source": [
    "q = q.astype(float)"
   ]
  },
  {
   "cell_type": "code",
   "execution_count": 81,
   "metadata": {
    "collapsed": false
   },
   "outputs": [],
   "source": [
    "a_i,b_i,c_i = q[0]/ConstPixelSpacing[0],q[1]/ConstPixelSpacing[1],q[2]/ConstPixelSpacing[2]"
   ]
  },
  {
   "cell_type": "code",
   "execution_count": 74,
   "metadata": {
    "collapsed": true
   },
   "outputs": [],
   "source": [
    "ConstPixelSpacing = [0.44921899999999998, 0.44921899999999987, 1.2809998989105225]"
   ]
  },
  {
   "cell_type": "code",
   "execution_count": 75,
   "metadata": {
    "collapsed": false
   },
   "outputs": [
    {
     "data": {
      "text/plain": [
       "array([[-2.21697869, -2.21697869, -0.77744655],\n",
       "       [-0.05311178, -0.05311178, -0.01862516],\n",
       "       [ 0.19401615,  0.19401615,  0.06803728]])"
      ]
     },
     "execution_count": 75,
     "metadata": {},
     "output_type": "execute_result"
    }
   ],
   "source": [
    "np.divide(q,ConstPixelSpacing)"
   ]
  },
  {
   "cell_type": "code",
   "execution_count": 85,
   "metadata": {
    "collapsed": false
   },
   "outputs": [
    {
     "data": {
      "text/plain": [
       "array([[-2.21697869],\n",
       "       [-0.05311178],\n",
       "       [ 0.06803728]])"
      ]
     },
     "execution_count": 85,
     "metadata": {},
     "output_type": "execute_result"
    }
   ],
   "source": [
    "q_i  = np.zeros((3,1));\n",
    "q_i[0],q_i[1],q_i[2] = a_i,b_i,c_i;\n",
    "q_i"
   ]
  },
  {
   "cell_type": "code",
   "execution_count": 93,
   "metadata": {
    "collapsed": true
   },
   "outputs": [],
   "source": [
    "d_i = np.dot(p_original_opt,q0)"
   ]
  },
  {
   "cell_type": "code",
   "execution_count": 94,
   "metadata": {
    "collapsed": false
   },
   "outputs": [
    {
     "data": {
      "text/plain": [
       "(array([[-0.99924298],\n",
       "        [-0.0239387 ],\n",
       "        [ 0.03066596]]), array([-251.78724716]))"
      ]
     },
     "execution_count": 94,
     "metadata": {},
     "output_type": "execute_result"
    }
   ],
   "source": [
    "q0,d_i"
   ]
  },
  {
   "cell_type": "code",
   "execution_count": 95,
   "metadata": {
    "collapsed": true
   },
   "outputs": [],
   "source": [
    "a_i,b_i,c_i = q0[0],q0[1],q0[2]"
   ]
  },
  {
   "cell_type": "code",
   "execution_count": 96,
   "metadata": {
    "collapsed": true
   },
   "outputs": [],
   "source": [
    "crossShape = bone[:,:,10].shape\n",
    "mask = np.zeros(bone.shape)\n",
    "for i in range(bone.shape[2]):\n",
    "    mask1 = np.fromfunction(lambda x,y: x > ((d_i-i*c_i-y*b_i)/a_i-2), crossShape)\n",
    "    mask2 = np.fromfunction(lambda x,y: x < ((d_i-i*c_i-y*b_i)/a_i+2), crossShape)\n",
    "    maski = np.multiply(mask1, mask2)\n",
    "    mask[:,:,i] = maski\n",
    "saveMask(mask,path,'reshapingfactor1')"
   ]
  },
  {
   "cell_type": "code",
   "execution_count": 89,
   "metadata": {
    "collapsed": false
   },
   "outputs": [
    {
     "data": {
      "text/plain": [
       "'/Volumes/FAIR/Sinead/DC-Project-Images/original/SampleB/SB_Pre-op.nrrd'"
      ]
     },
     "execution_count": 89,
     "metadata": {},
     "output_type": "execute_result"
    }
   ],
   "source": [
    "path"
   ]
  },
  {
   "cell_type": "code",
   "execution_count": 91,
   "metadata": {
    "collapsed": false
   },
   "outputs": [
    {
     "data": {
      "text/plain": [
       "array([[-0.99924298],\n",
       "       [-0.0239387 ],\n",
       "       [ 0.03066596]])"
      ]
     },
     "execution_count": 91,
     "metadata": {},
     "output_type": "execute_result"
    }
   ],
   "source": [
    "q0 = Functions.unit_vector(q_i)\n",
    "q0"
   ]
  },
  {
   "cell_type": "code",
   "execution_count": 92,
   "metadata": {
    "collapsed": false
   },
   "outputs": [
    {
     "data": {
      "text/plain": [
       "array([[-0.99590895],\n",
       "       [-0.02385882],\n",
       "       [ 0.08715574]])"
      ]
     },
     "execution_count": 92,
     "metadata": {},
     "output_type": "execute_result"
    }
   ],
   "source": [
    "q"
   ]
  },
  {
   "cell_type": "code",
   "execution_count": null,
   "metadata": {
    "collapsed": true
   },
   "outputs": [],
   "source": []
  }
 ],
 "metadata": {
  "kernelspec": {
   "display_name": "Python 2",
   "language": "python",
   "name": "python2"
  },
  "language_info": {
   "codemirror_mode": {
    "name": "ipython",
    "version": 2
   },
   "file_extension": ".py",
   "mimetype": "text/x-python",
   "name": "python",
   "nbconvert_exporter": "python",
   "pygments_lexer": "ipython2",
   "version": "2.7.13"
  }
 },
 "nbformat": 4,
 "nbformat_minor": 2
}
