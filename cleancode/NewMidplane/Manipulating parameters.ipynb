{
 "cells": [
  {
   "cell_type": "code",
   "execution_count": 5,
   "metadata": {
    "collapsed": true
   },
   "outputs": [],
   "source": [
    "import numpy as np\n",
    "pre_para = np.load('/Volumes/FAIR/DC-Image-Analysis/DC-project-master/cleancode/NewMidplane/Final_preop.npy')\n",
    "post_para = np.load('/Volumes/FAIR/DC-Image-Analysis/DC-project-master/cleancode/NewMidplane/Final_postop.npy')"
   ]
  },
  {
   "cell_type": "code",
   "execution_count": null,
   "metadata": {
    "collapsed": true
   },
   "outputs": [],
   "source": [
    "### Un-reshaping the a,b,c normal vector seems to make no big difference\n",
    "### orientation of plane will be minorly altered. But there's no need to\n",
    "### results already good enough."
   ]
  },
  {
   "cell_type": "code",
   "execution_count": 3,
   "metadata": {
    "collapsed": false
   },
   "outputs": [
    {
     "name": "stdout",
     "output_type": "stream",
     "text": [
      "iteration number 2\n"
     ]
    }
   ],
   "source": [
    "import nibabel as nib\n",
    "import core\n",
    "import Functions\n",
    "from time import time\n",
    "import os\n",
    "import numpy as np\n",
    "\n",
    "\n",
    "paths = ['/Volumes/FAIR/Sinead/DC-Project-Images/original/SampleC/SC_Follow.nrrd',\n",
    "         '/Volumes/FAIR/Sinead/DC-Project-Images/original/SampleD/SD_Post-op.nrrd',\n",
    "         '/Volumes/FAIR/Sinead/DC-Project-Images/original/SampleG/SG_Post-op.nrrd',\n",
    "         '/Volumes/FAIR/Sinead/DC-Project-Images/original/SampleH/SH_Post-op.nrrd',\n",
    "         '/Users/fair00542/Desktop/TestImages/ScanJ/1.2.392.200036.9116.2.6.1.48.1221600807.1432222275.897467.dcm']\n",
    "# paths =['/Volumes/FAIR/Sinead/DC-Project-Images/original/Sample3/S3_Pre-op.nrrd',\n",
    "#          '/Volumes/FAIR/Sinead/DC-Project-Images/original/SampleF/SF_Pre-op.nrrd',\n",
    "#          '/Volumes/FAIR/Sinead/DC-Project-Images/original/SampleG/SG_Pre-op.nrrd',\n",
    "#         '/Volumes/FAIR/Sinead/DC-Project-Images/original/SampleB/SB_Pre-op.nrrd',\n",
    "#          '/Volumes/FAIR/Sinead/DC-Project-Images/original/SampleC/SC_Pre-op.nrrd',\n",
    "#          '/Volumes/FAIR/Sinead/DC-Project-Images/original/SampleD/SD_Pre-op.nrrd',\n",
    "#          '/Volumes/FAIR/Sinead/DC-Project-Images/original/SampleH/SH_Pre-op.nrrd',\n",
    "#          '/Volumes/FAIR/Sinead/DC-Project-Images/original/SampleI/SI_Pre-op.nrrd',\n",
    "#          '/Volumes/FAIR/Sinead/DC-Project-Images/original/Sample4/S4_Pre-op.nrrd',\n",
    "#          '/Volumes/FAIR/Sinead/DC-Project-Images/original/Sample5/S5_Pre_rigid.nrrd',\n",
    "#          '/Users/fair00542/Desktop/TestImages/ScanA/1.3.12.2.1107.5.1.4.54053.30000014091206552395300024468.dcm',\n",
    "#          '/Users/fair00542/Desktop/TestImages/ScanB/1.3.12.2.1107.5.1.4.51967.30000014110308064564000003663.dcm',\n",
    "#          '/Users/fair00542/Desktop/TestImages/ScanC/1.3.12.2.1107.5.1.4.95198.30000014121008232151100020392.dcm',\n",
    "#          '/Users/fair00542/Desktop/TestImages/ScanD/1.3.12.2.1107.5.1.4.95198.30000015040208110913600035430.dcm',\n",
    "#          '/Users/fair00542/Desktop/TestImages/ScanE/1.3.12.2.1107.5.1.4.95198.30000015061008243097400047439.dcm',\n",
    "#          '/Users/fair00542/Desktop/TestImages/ScanF/1.3.12.2.1107.5.1.4.95198.30000015051507521609300034666.dcm',\n",
    "#          '/Users/fair00542/Desktop/TestImages/ScanG/1.3.12.2.1107.5.1.4.95198.30000015072708211605400036464.dcm',\n",
    "#          '/Users/fair00542/Desktop/TestImages/ScanH/1.2.840.113619.2.55.3.2634693835.766.1437720278.192.2.dcm',\n",
    "#          '/Users/fair00542/Desktop/TestImages/ScanI/1.3.12.2.1107.5.1.4.95198.30000015071109310409300075668.dcm',\n",
    "#          '/Users/fair00542/Desktop/TestImages/ScanJ/1.2.392.200036.9116.2.6.1.48.1221600807.1432222275.897467.dcm']\n",
    "# paths = ['/Volumes/FAIR/Sinead/DC-Project-Images/original/Sample2/S2_Post-op.nrrd',\n",
    "#          '/Volumes/FAIR/Sinead/DC-Project-Images/original/Sample3/S3_Post-op.nrrd',\n",
    "#          '/Volumes/FAIR/Sinead/DC-Project-Images/original/Sample4/S4_Post-op.nrrd',\n",
    "#          '/Volumes/FAIR/Sinead/DC-Project-Images/original/Sample5/S5_Post-op.nrrd',\n",
    "#          '/Volumes/FAIR/Sinead/DC-Project-Images/original/SampleB/SB_Post-op.nrrd',\n",
    "#          '/Volumes/FAIR/Sinead/DC-Project-Images/original/SampleC/SC_Post-op.nrrd',\n",
    "#          '/Volumes/FAIR/Sinead/DC-Project-Images/original/SampleD/SD_Post-op.nrrd',\n",
    "#          '/Volumes/FAIR/Sinead/DC-Project-Images/original/SampleF/SF_Post-op.nrrd',\n",
    "#          '/Volumes/FAIR/Sinead/DC-Project-Images/original/SampleG/SG_Post-op.nrrd',\n",
    "#          '/Volumes/FAIR/Sinead/DC-Project-Images/original/SampleH/SH_Post-op.nrrd',\n",
    "#          '/Volumes/FAIR/Sinead/DC-Project-Images/original/SampleI/SI_Post-op.nrrd']\n",
    "\n",
    "\n",
    "para_List = []\n",
    "# for pathnumber in range(0,len(paths)):\n",
    "for pathnumber in range(2,3):\n",
    "    path = paths[pathnumber]\n",
    "    print 'iteration number', pathnumber\n",
    "    if path.endswith('.nii') or path.endswith('.nii.gz'):\n",
    "        import core\n",
    "        array, ConstPixelSpacing, affine = core.nifti2np(path)\n",
    "    #     bone = core.thresholdnp(array, 1100, 1500)\n",
    "    #     softtissue  = core.thresholdnp(array, 0, 80)\n",
    "        # visual     = core.thresholdnp(self.scan.array, -100, 1500)\n",
    "\n",
    "    elif path.endswith('.dcm'):\n",
    "        import core\n",
    "        array, ConstPixelSpacing, origin, path, affine = core.dicom2np(path)\n",
    "#         maskPath = os.path.join(os.path.split(os.path.dirname(path))[0], 'level2.nii.gz')\n",
    "#         skullPath = os.path.join(os.path.dirname(path), 'skull_contour.nii.gz')\n",
    "        array=np.swapaxes(array, 0, 1)\n",
    "        bone = core.thresholdnp(array, 1100, 1500)\n",
    "        softtissue  = core.thresholdnp(array, 0, 80)\n",
    "\n",
    "    elif path.endswith('.nrrd'):\n",
    "        import core\n",
    "        array, ConstPixelSpacing, affine = core.nrrd2np(path)\n",
    "#         array=np.swapaxes(array, 0, 1)\n",
    "#         bone = core.thresholdnp(array, 800, 1500)\n",
    "        bone = core.thresholdnp(array, 1100, 1500)\n",
    "        softtissue  = core.thresholdnp(array, 0, 80)\n",
    "#         maskPath = os.path.join(os.path.dirname(path), 'level2.nii.gz')\n",
    "#         skullPath = os.path.join(os.path.dirname(path), 'skull_contour.nii.gz')\n",
    "\n",
    "def saveMask(array, path, name):\n",
    "    mask = array.astype(np.float64)\n",
    "#     mask = np.swapaxes(mask, 0, 1)\n",
    "    img = nib.Nifti1Image(mask, affine)\n",
    "    savePath = os.path.join(os.path.split(path)[0], '{}.nii.gz'.format(name))\n",
    "    nib.save(img, savePath)\n",
    "t0 = time()\n",
    "boneReshaped = core.reshape(bone, ConstPixelSpacing)\n",
    "# softtissueReshaped = core.reshape(softtissue,ConstPixelSpacing)\n",
    "arrayReshaped = core.reshape(array,ConstPixelSpacing)\n",
    "\n",
    "# get coordinates of bones\n",
    "X = np.where(boneReshaped>0)\n",
    "X_array = np.where(arrayReshaped>0)\n",
    "# this step exchanges the x y axis.\n",
    "X = np.matrix(np.column_stack((X[0],X[1],X[2])))\n",
    "X_array = np.matrix(np.column_stack((X_array[0],X_array[1],X_array[2])))\n",
    "# Feature Normalization for X matrix\n",
    "os.chdir('/Volumes/FAIR/DC-Image-Analysis/DC-project-master/cleancode/NewMidplane')\n",
    "import Functions\n",
    "# X_norm,mu,std = Functions.featureNormalize(X)\n",
    "X_norm,mu = Functions.featureNormalize(X);\n",
    "m = X.shape[0] #Number of samples\n",
    "p = np.mean(X_array,0); #Points centroid\n",
    "p = np.array(p)[0] #p becomes an array\n",
    "p_original = p/ConstPixelSpacing"
   ]
  },
  {
   "cell_type": "code",
   "execution_count": 8,
   "metadata": {
    "collapsed": false
   },
   "outputs": [
    {
     "data": {
      "text/plain": [
       "array(['SampleG', '-0.999892571968', '-0.00809872918969',\n",
       "       '-0.0122170008352', '-247.763470092'], \n",
       "      dtype='|S17')"
      ]
     },
     "execution_count": 8,
     "metadata": {},
     "output_type": "execute_result"
    }
   ],
   "source": [
    "post_para[8]"
   ]
  },
  {
   "cell_type": "code",
   "execution_count": 32,
   "metadata": {
    "collapsed": false
   },
   "outputs": [
    {
     "data": {
      "text/plain": [
       "[0.49475097656299993, 0.49475097656299993, 4.9999995231628409]"
      ]
     },
     "execution_count": 32,
     "metadata": {},
     "output_type": "execute_result"
    }
   ],
   "source": [
    "ConstPixelSpacing"
   ]
  },
  {
   "cell_type": "code",
   "execution_count": 22,
   "metadata": {
    "collapsed": false
   },
   "outputs": [],
   "source": [
    "a,b,c,d = pre_para[8][1],pre_para[8][2],pre_para[8][3],pre_para[8][4]"
   ]
  },
  {
   "cell_type": "code",
   "execution_count": 23,
   "metadata": {
    "collapsed": false
   },
   "outputs": [],
   "source": [
    "q  = np.zeros((3,1));\n",
    "q[0],q[1],q[2] = a,b,c;"
   ]
  },
  {
   "cell_type": "code",
   "execution_count": 24,
   "metadata": {
    "collapsed": false
   },
   "outputs": [],
   "source": [
    "d = d.astype(float)\n",
    "p_original_opt = np.array([245.58266437,  252.30278189,   13.4121527])"
   ]
  },
  {
   "cell_type": "code",
   "execution_count": 25,
   "metadata": {
    "collapsed": false
   },
   "outputs": [],
   "source": [
    "q = q.astype(float)"
   ]
  },
  {
   "cell_type": "code",
   "execution_count": 26,
   "metadata": {
    "collapsed": false
   },
   "outputs": [],
   "source": [
    "a_i,b_i,c_i = q[0]/ConstPixelSpacing[0],q[1]/ConstPixelSpacing[1],q[2]/ConstPixelSpacing[2]"
   ]
  },
  {
   "cell_type": "code",
   "execution_count": 27,
   "metadata": {
    "collapsed": false
   },
   "outputs": [
    {
     "data": {
      "text/plain": [
       "array([[-2.00460284, -2.00460284, -0.19835586],\n",
       "       [ 0.25745554,  0.25745554,  0.02547528],\n",
       "       [ 0.02469323,  0.02469323,  0.0024434 ]])"
      ]
     },
     "execution_count": 27,
     "metadata": {},
     "output_type": "execute_result"
    }
   ],
   "source": [
    "np.divide(q,ConstPixelSpacing)"
   ]
  },
  {
   "cell_type": "code",
   "execution_count": 28,
   "metadata": {
    "collapsed": false
   },
   "outputs": [],
   "source": [
    "q_i  = np.zeros((3,1));\n",
    "q_i[0],q_i[1],q_i[2] = a_i,b_i,c_i;\n",
    "q0 = Functions.unit_vector(q_i)"
   ]
  },
  {
   "cell_type": "code",
   "execution_count": 29,
   "metadata": {
    "collapsed": false
   },
   "outputs": [],
   "source": [
    "d_i = np.dot(p_original_opt,q0)"
   ]
  },
  {
   "cell_type": "code",
   "execution_count": 30,
   "metadata": {
    "collapsed": false
   },
   "outputs": [
    {
     "data": {
      "text/plain": [
       "(array([[-0.99185251],\n",
       "        [ 0.12738579],\n",
       "        [ 0.00120896]]), array([[-0.99177921],\n",
       "        [ 0.12737638],\n",
       "        [ 0.012217  ]]))"
      ]
     },
     "execution_count": 30,
     "metadata": {},
     "output_type": "execute_result"
    }
   ],
   "source": [
    "q0,q"
   ]
  },
  {
   "cell_type": "code",
   "execution_count": 31,
   "metadata": {
    "collapsed": true
   },
   "outputs": [],
   "source": [
    "a_i,b_i,c_i = q0[0],q0[1],q0[2]"
   ]
  },
  {
   "cell_type": "code",
   "execution_count": 21,
   "metadata": {
    "collapsed": true
   },
   "outputs": [],
   "source": [
    "crossShape = bone[:,:,10].shape\n",
    "mask = np.zeros(bone.shape)\n",
    "for i in range(bone.shape[2]):\n",
    "    mask1 = np.fromfunction(lambda x,y: x > ((d_i-i*c_i-y*b_i)/a_i-2), crossShape)\n",
    "    mask2 = np.fromfunction(lambda x,y: x < ((d_i-i*c_i-y*b_i)/a_i+2), crossShape)\n",
    "    maski = np.multiply(mask1, mask2)\n",
    "    mask[:,:,i] = maski\n",
    "saveMask(mask,path,'reshapingfactor1')"
   ]
  },
  {
   "cell_type": "code",
   "execution_count": 89,
   "metadata": {
    "collapsed": false
   },
   "outputs": [
    {
     "data": {
      "text/plain": [
       "'/Volumes/FAIR/Sinead/DC-Project-Images/original/SampleB/SB_Pre-op.nrrd'"
      ]
     },
     "execution_count": 89,
     "metadata": {},
     "output_type": "execute_result"
    }
   ],
   "source": [
    "path"
   ]
  },
  {
   "cell_type": "code",
   "execution_count": 91,
   "metadata": {
    "collapsed": false
   },
   "outputs": [
    {
     "data": {
      "text/plain": [
       "array([[-0.99924298],\n",
       "       [-0.0239387 ],\n",
       "       [ 0.03066596]])"
      ]
     },
     "execution_count": 91,
     "metadata": {},
     "output_type": "execute_result"
    }
   ],
   "source": [
    "q0 = Functions.unit_vector(q_i)\n",
    "q0"
   ]
  },
  {
   "cell_type": "code",
   "execution_count": 92,
   "metadata": {
    "collapsed": false
   },
   "outputs": [
    {
     "data": {
      "text/plain": [
       "array([[-0.99590895],\n",
       "       [-0.02385882],\n",
       "       [ 0.08715574]])"
      ]
     },
     "execution_count": 92,
     "metadata": {},
     "output_type": "execute_result"
    }
   ],
   "source": [
    "q"
   ]
  },
  {
   "cell_type": "code",
   "execution_count": null,
   "metadata": {
    "collapsed": true
   },
   "outputs": [],
   "source": []
  }
 ],
 "metadata": {
  "kernelspec": {
   "display_name": "Python 2",
   "language": "python",
   "name": "python2"
  },
  "language_info": {
   "codemirror_mode": {
    "name": "ipython",
    "version": 2
   },
   "file_extension": ".py",
   "mimetype": "text/x-python",
   "name": "python",
   "nbconvert_exporter": "python",
   "pygments_lexer": "ipython2",
   "version": "2.7.13"
  }
 },
 "nbformat": 4,
 "nbformat_minor": 2
}
