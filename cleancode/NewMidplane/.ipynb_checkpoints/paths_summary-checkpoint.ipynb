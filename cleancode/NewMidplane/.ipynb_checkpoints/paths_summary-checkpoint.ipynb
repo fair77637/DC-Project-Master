{
 "cells": [
  {
   "cell_type": "markdown",
   "metadata": {},
   "source": [
    "# Summary of cases"
   ]
  },
  {
   "cell_type": "markdown",
   "metadata": {},
   "source": [
    "## RESCUEasdh Preop \n",
    "### Gantry corrected"
   ]
  },
  {
   "cell_type": "code",
   "execution_count": null,
   "metadata": {
    "collapsed": true
   },
   "outputs": [],
   "source": [
    "paths =['/Volumes/FAIR/Sinead/DC-Project-Images/ScanFiles_Dicom/ScanB/ScanB_HeadC_SpineTraumaSeq_20141102100723_7_Tilt_Eq_1.nii.gz',\n",
    "       '/Volumes/FAIR/Sinead/DC-Project-Images/ScanFiles_Dicom/ScanD/ScanD_HeadC_SpineTrauma_20150402224947_6_Tilt_1.nii.gz',\n",
    "       '/Volumes/FAIR/Sinead/DC-Project-Images/ScanFiles_Dicom/ScanE/ScanE_HeadC_SpineTrauma_20150611023452_3.nii.gz',\n",
    "       '/Volumes/FAIR/Sinead/DC-Project-Images/ScanFiles_Dicom/ScanF/ScanF_HeadC_SpineTrauma_20150515234756_6.nii.gz',\n",
    "       '/Volumes/FAIR/Sinead/DC-Project-Images/ScanFiles_Dicom/ScanG/ScanG_HeadC_SpineTrauma_20150727175302_3.nii.gz',\n",
    "       '/Volumes/FAIR/Sinead/DC-Project-Images/ScanFiles_Dicom/ScanH/ScanH_1.25MM_RECONS_20150724224900_4_Tilt_Eq_1.nii.gz',\n",
    "       '/Volumes/FAIR/Sinead/DC-Project-Images/ScanFiles_Dicom/ScanI/ScanI_HeadC_SpineTrauma_20150712185123_3_Tilt_1.nii.gz']"
   ]
  },
  {
   "cell_type": "markdown",
   "metadata": {},
   "source": [
    "## Postop"
   ]
  },
  {
   "cell_type": "code",
   "execution_count": 1,
   "metadata": {
    "collapsed": true
   },
   "outputs": [],
   "source": [
    "paths = ['/Volumes/FAIR/Sinead/DC-Project-Images/original/Sample2/S2_Post-op.nrrd',\n",
    "         '/Volumes/FAIR/Sinead/DC-Project-Images/original/Sample3/Post/S3_Post-op.nrrd',\n",
    "         '/Volumes/FAIR/Sinead/DC-Project-Images/original/Sample4/Post/S4_Post-op.nrrd',\n",
    "         '/Volumes/FAIR/Sinead/DC-Project-Images/original/Sample5/Post/S5_Post-op.nrrd',\n",
    "         '/Volumes/FAIR/Sinead/DC-Project-Images/original/Sample6/Post/SB_Post-op.nrrd',\n",
    "         '/Volumes/FAIR/Sinead/DC-Project-Images/original/Sample7/Post/SC_Post-op.nrrd',\n",
    "         '/Volumes/FAIR/Sinead/DC-Project-Images/original/Sample8/Post/SD_Post-op.nrrd',\n",
    "         '/Volumes/FAIR/Sinead/DC-Project-Images/original/Sample9/Post/SF_Post-op.nrrd',\n",
    "         '/Volumes/FAIR/Sinead/DC-Project-Images/original/Sample10/Post/SG_Post-op.nrrd',\n",
    "         '/Volumes/FAIR/Sinead/DC-Project-Images/original/Sample11/Post/SH_Post-op.nrrd',\n",
    "         '/Volumes/FAIR/Sinead/DC-Project-Images/original/Sample12/Post/SI_Post-op.nrrd']"
   ]
  },
  {
   "cell_type": "markdown",
   "metadata": {},
   "source": [
    "# ERIC- CENTERTBI"
   ]
  },
  {
   "cell_type": "code",
   "execution_count": 2,
   "metadata": {
    "collapsed": true
   },
   "outputs": [],
   "source": [
    "paths = ['/Volumes/FAIR/CT-scans/2kQJ627_CT1.nii.gz',\n",
    "         '/Volumes/FAIR/CT-scans/CT2/7MTF639_CT1.nii.gz',\n",
    "         '/Volumes/FAIR/CT-scans/CT3/9Zwx242_CT1_early.nii.gz',\n",
    "         '/Volumes/FAIR/CT-scans/CT4/4bxB662_CT1.nii.gz',\n",
    "         '/Volumes/FAIR/CT-scans/3wwN538_CT1.nii.gz']"
   ]
  },
  {
   "cell_type": "markdown",
   "metadata": {},
   "source": [
    "# Virginia EDH"
   ]
  },
  {
   "cell_type": "code",
   "execution_count": 3,
   "metadata": {
    "collapsed": true
   },
   "outputs": [],
   "source": [
    "paths = ['/Volumes/FAIR/Virginia/FAVO/EDH/859543/EDH1/859543_13768333_01_271007_2025_002_PostFossa_4_8_H40s_image.nii.gz',\n",
    "         '/Volumes/FAIR/Virginia/FAVO/EDH/1723038/EDH2/1723038_13121265_01_250705_1037_002_ThinSliceSeq_4_0_H40s_image.nii.gz',\n",
    "         '/Volumes/FAIR/Virginia/FAVO/EDH/1731236/EDH3/1731236_13172396_01_300905_1521_002_ThinSliceSeq_4_0_H40s_image.nii.gz',\n",
    "         '/Volumes/FAIR/Virginia/FAVO/EDH/3050406/EDH4/3050406_##_01_141214_0857_004_Head_image.nii.gz',\n",
    "         '/Volumes/FAIR/Virginia/FAVO/EDH/3766017/EDH5/3766017_26138_01_121116_2216_002_5mm_Brain_image.nii.gz',\n",
    "         '/Volumes/FAIR/Virginia/FAVO/EDH/3769711/EDH6/3769711_11094783_01_221116_2243_002_Head_5_0_J40s_3_image.nii.gz',\n",
    "         '/Volumes/FAIR/Virginia/FAVO/EDH/3799763/EDH7/3799763_93620_01_231216_1823_80256_MPR_image.nii.gz']"
   ]
  },
  {
   "cell_type": "markdown",
   "metadata": {
    "collapsed": true
   },
   "source": [
    "# Virginia SDH"
   ]
  },
  {
   "cell_type": "code",
   "execution_count": 5,
   "metadata": {
    "collapsed": false
   },
   "outputs": [],
   "source": [
    "paths = ['/Volumes/FAIR/Virginia/FAVO/SDH/365770/SDH1/365770_15688135_01_140113_2015_002_StdBrain_4_5_H40s_image.nii.gz',\n",
    "         '/Volumes/FAIR/Virginia/FAVO/SDH/1777243/SDH2/1777243_13410770_02_140806_2233_002_ThinSliceSeq_4_0_H40s_image.nii.gz',\n",
    "         '/Volumes/FAIR/Virginia/FAVO/SDH/1896763/SDH3/1896763_92338_01_181116_0157_80272_MPR_image.nii.gz',\n",
    "         '/Volumes/FAIR/Virginia/FAVO/SDH/3708063/SDH4/3708063_10968221_01_310816_2010_002_Head_5_0_MPR_image.nii.gz',\n",
    "         '/Volumes/FAIR/Virginia/FAVO/SDH/3732626/SDH5/3732626_24819_01_081016_1200_002_5mm_Brain_image.nii.gz',\n",
    "         '/Volumes/FAIR/Virginia/FAVO/SDH/3737808/SDH6/3737808_11032055_01_131016_0516_002_Head_5_0_J40s_3_image.nii.gz',\n",
    "         '/Volumes/FAIR/Virginia/FAVO/SDH/3742364/SDH7/m_3742364_11045234_01_211016_0208_002_Head_5_0_J40s_3_image.nii.gz',\n",
    "         '/Volumes/FAIR/Virginia/FAVO/SDH/3758895/SDH8/3758895_11066947_01_041116_0009_007_Head_5_0_J40s_3_image.nii.gz',\n",
    "         '/Volumes/FAIR/Virginia/FAVO/SDH/3764350/SDH9/3764350_##_01_131116_0152_002_Head_5_0_J40s_3_image.nii.gz',\n",
    "         '/Volumes/FAIR/Virginia/FAVO/SDH/3772349/SDH10/3772349_26592_01_241116_0603_002_5mm_Brain_image.nii.gz',\n",
    "         '/Volumes/FAIR/Virginia/FAVO/SDH/3797770/SDH11/3797770_23590_01_221216_0345_002_Head_5_0_image.nii.gz',\n",
    "         '/Volumes/FAIR/Virginia/FAVO/SDH/3798130/SDH12/3798130_43976_01_040117_2338_002_Brain_2_5_5mm_SS40_image.nii.gz']"
   ]
  },
  {
   "cell_type": "code",
   "execution_count": null,
   "metadata": {
    "collapsed": true
   },
   "outputs": [],
   "source": [
    "paths = ['/Volumes/FAIR/Virginia/SamCooke/1002/SDH16/SDH16-1/ct_20215_image.nii.gz',\n",
    "         '/Volumes/FAIR/Virginia/SamCooke/1002/SDH16/SDH16-2/ct_20215_2_image.nii.gz',\n",
    "        '/Volumes/FAIR/Virginia/FAVO/SDH/1019/SDH17/ct_280315_1_image.nii.gz',\n",
    "        '/Volumes/FAIR/Virginia/FAVO/SDH/1034/SDH18/ct_1515_image.nii.gz',\n",
    "        '/Volumes/FAIR/Virginia/FAVO/SDH/1037/SDH19/ct_3515_image.nii.gz',\n",
    "        '/Volumes/FAIR/Virginia/FAVO/SDH/1038/SDH20/ct_4515_image.nii.gz',\n",
    "        '/Volumes/FAIR/Virginia/FAVO/SDH/1040/SDH21/ct_6515_image.nii.gz',\n",
    "        '/Volumes/FAIR/Virginia/FAVO/SDH/1045/SDH22/ct_23515_1_image.nii.gz',\n",
    "        '/Volumes/FAIR/Virginia/FAVO/SDH/1050/SDH23/ct_7615_1_image.nii.gz',\n",
    "        '/Volumes/FAIR/Virginia/FAVO/SDH/1060/SDH24/ct_12715_image.nii.gz',\n",
    "        '/Volumes/FAIR/Virginia/FAVO/SDH/1067/SDH25/ct_2815_image.nii.gz',\n",
    "        '/Volumes/FAIR/Virginia/FAVO/SDH/1080/SDH26/ct_20915_image.nii.gz',\n",
    "        '/Volumes/FAIR/Virginia/FAVO/SDH/1140/SDH27/ct_28116_image.nii.gz',\n",
    "        '/Volumes/FAIR/Virginia/FAVO/SDH/1109/SDH28/ct_17216_image.nii.gz']"
   ]
  },
  {
   "cell_type": "markdown",
   "metadata": {},
   "source": [
    "# Virginia CONT"
   ]
  },
  {
   "cell_type": "code",
   "execution_count": 6,
   "metadata": {
    "collapsed": true
   },
   "outputs": [],
   "source": [
    "paths = ['/Volumes/FAIR/Virginia/FAVO/Cont/1003081/CONT1/1003081_14798166_01_280910_1520_002_StdBrain_4_5_H40s_image.nii.gz',\n",
    "         '/Volumes/FAIR/Virginia/FAVO/Cont/1040280/CONT2/1040280_3243472_01_260111_0047_002_Head_image.nii.gz',\n",
    "         '/Volumes/FAIR/Virginia/FAVO/Cont/1780351/CONT3/1780351_##_01_100906_1357_002_ThinSliceSeq_4_0_H40s_image.nii.gz',\n",
    "         '/Volumes/FAIR/Virginia/FAVO/Cont/1040280/CONT4/1805902_13598258_01_100407_1814_002_ThinSliceSeq_4_0_H40s_image.nii.gz',\n",
    "         '/Volumes/FAIR/Virginia/FAVO/Cont/3487946/CONT5/g_3487946_10590242_01_161215_0440_002_Head_5_0_J40s_3_image.nii.gz',\n",
    "         '/Volumes/FAIR/Virginia/FAVO/Cont/3709789/CONT6/3709789_10983549_01_110916_1552_002_Head_5_0_J40s_3_image.nii.gz',\n",
    "         '/Volumes/FAIR/Virginia/FAVO/Cont/3797961/CONT7/3797961_76845_02_010117_2344_002_Head_5_0_image.nii.gz']\n",
    "\n",
    "\n",
    "\n"
   ]
  },
  {
   "cell_type": "code",
   "execution_count": null,
   "metadata": {
    "collapsed": true
   },
   "outputs": [],
   "source": []
  }
 ],
 "metadata": {
  "kernelspec": {
   "display_name": "Python 2",
   "language": "python",
   "name": "python2"
  },
  "language_info": {
   "codemirror_mode": {
    "name": "ipython",
    "version": 2
   },
   "file_extension": ".py",
   "mimetype": "text/x-python",
   "name": "python",
   "nbconvert_exporter": "python",
   "pygments_lexer": "ipython2",
   "version": "2.7.13"
  }
 },
 "nbformat": 4,
 "nbformat_minor": 2
}
