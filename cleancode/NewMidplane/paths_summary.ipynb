{
 "cells": [
  {
   "cell_type": "markdown",
   "metadata": {},
   "source": [
    "# Summary of cases"
   ]
  },
  {
   "cell_type": "markdown",
   "metadata": {},
   "source": [
    "## RESCUEasdh Preop \n",
    "### Gantry corrected"
   ]
  },
  {
   "cell_type": "code",
   "execution_count": null,
   "metadata": {
    "collapsed": true
   },
   "outputs": [],
   "source": [
    "paths =['/Volumes/FAIR/Sinead/DC-Project-Images/ScanFiles_Dicom/ScanB/ScanB_HeadC_SpineTraumaSeq_20141102100723_7_Tilt_Eq_1.nii.gz',\n",
    "       '/Volumes/FAIR/Sinead/DC-Project-Images/ScanFiles_Dicom/ScanD/ScanD_HeadC_SpineTrauma_20150402224947_6_Tilt_1.nii.gz',\n",
    "       '/Volumes/FAIR/Sinead/DC-Project-Images/ScanFiles_Dicom/ScanE/ScanE_HeadC_SpineTrauma_20150611023452_3.nii.gz',\n",
    "       '/Volumes/FAIR/Sinead/DC-Project-Images/ScanFiles_Dicom/ScanF/ScanF_HeadC_SpineTrauma_20150515234756_6.nii.gz',\n",
    "       '/Volumes/FAIR/Sinead/DC-Project-Images/ScanFiles_Dicom/ScanG/ScanG_HeadC_SpineTrauma_20150727175302_3.nii.gz',\n",
    "       '/Volumes/FAIR/Sinead/DC-Project-Images/ScanFiles_Dicom/ScanH/ScanH_1.25MM_RECONS_20150724224900_4_Tilt_Eq_1.nii.gz',\n",
    "       '/Volumes/FAIR/Sinead/DC-Project-Images/ScanFiles_Dicom/ScanI/ScanI_HeadC_SpineTrauma_20150712185123_3_Tilt_1.nii.gz']"
   ]
  },
  {
   "cell_type": "markdown",
   "metadata": {},
   "source": [
    "## Postop"
   ]
  },
  {
   "cell_type": "code",
   "execution_count": 1,
   "metadata": {
    "collapsed": true
   },
   "outputs": [],
   "source": [
    "paths = ['/Volumes/FAIR/Sinead/DC-Project-Images/original/Sample2/S2_Post-op.nrrd',\n",
    "         '/Volumes/FAIR/Sinead/DC-Project-Images/original/Sample3/Post/S3_Post-op.nrrd',\n",
    "         '/Volumes/FAIR/Sinead/DC-Project-Images/original/Sample4/Post/S4_Post-op.nrrd',\n",
    "         '/Volumes/FAIR/Sinead/DC-Project-Images/original/Sample5/Post/S5_Post-op.nrrd',\n",
    "         '/Volumes/FAIR/Sinead/DC-Project-Images/original/Sample6/Post/SB_Post-op.nrrd',\n",
    "         '/Volumes/FAIR/Sinead/DC-Project-Images/original/Sample7/Post/SC_Post-op.nrrd',\n",
    "         '/Volumes/FAIR/Sinead/DC-Project-Images/original/Sample8/Post/SD_Post-op.nrrd',\n",
    "         '/Volumes/FAIR/Sinead/DC-Project-Images/original/Sample9/Post/SF_Post-op.nrrd',\n",
    "         '/Volumes/FAIR/Sinead/DC-Project-Images/original/Sample10/Post/SG_Post-op.nrrd',\n",
    "         '/Volumes/FAIR/Sinead/DC-Project-Images/original/Sample11/Post/SH_Post-op.nrrd',\n",
    "         '/Volumes/FAIR/Sinead/DC-Project-Images/original/Sample12/Post/SI_Post-op.nrrd']"
   ]
  },
  {
   "cell_type": "markdown",
   "metadata": {},
   "source": [
    "# ERIC- CENTERTBI"
   ]
  },
  {
   "cell_type": "code",
   "execution_count": 2,
   "metadata": {
    "collapsed": true
   },
   "outputs": [],
   "source": [
    "paths = ['/Volumes/FAIR/CT-scans/2kQJ627_CT1.nii.gz',\n",
    "         '/Volumes/FAIR/CT-scans/CT2/7MTF639_CT1.nii.gz',\n",
    "         '/Volumes/FAIR/CT-scans/CT3/9Zwx242_CT1_early.nii.gz',\n",
    "         '/Volumes/FAIR/CT-scans/CT4/4bxB662_CT1.nii.gz',\n",
    "         '/Volumes/FAIR/CT-scans/3wwN538_CT1.nii.gz']"
   ]
  },
  {
   "cell_type": "markdown",
   "metadata": {},
   "source": [
    "# Virginia EDH"
   ]
  },
  {
   "cell_type": "code",
   "execution_count": 3,
   "metadata": {
    "collapsed": true
   },
   "outputs": [],
   "source": [
    "paths = ['/Volumes/FAIR/Virginia/FAVO/EDH/859543/EDH1/859543_13768333_01_271007_2025_002_PostFossa_4_8_H40s_image.nii.gz',\n",
    "         '/Volumes/FAIR/Virginia/FAVO/EDH/1723038/EDH2/1723038_13121265_01_250705_1037_002_ThinSliceSeq_4_0_H40s_image.nii.gz',\n",
    "         '/Volumes/FAIR/Virginia/FAVO/EDH/1731236/EDH3/1731236_13172396_01_300905_1521_002_ThinSliceSeq_4_0_H40s_image.nii.gz',\n",
    "         '/Volumes/FAIR/Virginia/FAVO/EDH/3050406/EDH4/3050406_##_01_141214_0857_004_Head_image.nii.gz',\n",
    "         '/Volumes/FAIR/Virginia/FAVO/EDH/3766017/EDH5/3766017_26138_01_121116_2216_002_5mm_Brain_image.nii.gz',\n",
    "         '/Volumes/FAIR/Virginia/FAVO/EDH/3769711/EDH6/3769711_11094783_01_221116_2243_002_Head_5_0_J40s_3_image.nii.gz',\n",
    "         '/Volumes/FAIR/Virginia/FAVO/EDH/3799763/EDH7/3799763_93620_01_231216_1823_80256_MPR_image.nii.gz']"
   ]
  },
  {
   "cell_type": "code",
   "execution_count": null,
   "metadata": {
    "collapsed": true
   },
   "outputs": [],
   "source": [
    "paths = ['/Volumes/FAIR/Virginia/FAVO/EDH/859543/EDH1',\n",
    "         '/Volumes/FAIR/Virginia/FAVO/EDH/1723038/EDH2',\n",
    "         '/Volumes/FAIR/Virginia/FAVO/EDH/1731236/EDH3',\n",
    "         '/Volumes/FAIR/Virginia/FAVO/EDH/3050406/EDH4',\n",
    "         '/Volumes/FAIR/Virginia/FAVO/EDH/3766017/EDH5',\n",
    "         '/Volumes/FAIR/Virginia/FAVO/EDH/3769711/EDH6',\n",
    "         '/Volumes/FAIR/Virginia/FAVO/EDH/3799763/EDH7',\n",
    "         '/Volumes/FAIR/CT-scans/EDH8',\n",
    "         '/Volumes/FAIR/Virginia/FAVO/EDH/1011/EDH9']"
   ]
  },
  {
   "cell_type": "markdown",
   "metadata": {
    "collapsed": true
   },
   "source": [
    "# Virginia SDH"
   ]
  },
  {
   "cell_type": "code",
   "execution_count": 5,
   "metadata": {
    "collapsed": false
   },
   "outputs": [],
   "source": [
    "paths = ['/Volumes/FAIR/Virginia/FAVO/SDH/365770/SDH1/365770_15688135_01_140113_2015_002_StdBrain_4_5_H40s_image.nii.gz',\n",
    "         '/Volumes/FAIR/Virginia/FAVO/SDH/1777243/SDH2/1777243_13410770_02_140806_2233_002_ThinSliceSeq_4_0_H40s_image.nii.gz',\n",
    "         '/Volumes/FAIR/Virginia/FAVO/SDH/1896763/SDH3/1896763_92338_01_181116_0157_80272_MPR_image.nii.gz',\n",
    "         '/Volumes/FAIR/Virginia/FAVO/SDH/3708063/SDH4/3708063_10968221_01_310816_2010_002_Head_5_0_MPR_image.nii.gz',\n",
    "         '/Volumes/FAIR/Virginia/FAVO/SDH/3732626/SDH5/3732626_24819_01_081016_1200_002_5mm_Brain_image.nii.gz',\n",
    "         '/Volumes/FAIR/Virginia/FAVO/SDH/3737808/SDH6/3737808_11032055_01_131016_0516_002_Head_5_0_J40s_3_image.nii.gz',\n",
    "         '/Volumes/FAIR/Virginia/FAVO/SDH/3742364/SDH7/m_3742364_11045234_01_211016_0208_002_Head_5_0_J40s_3_image.nii.gz',\n",
    "         '/Volumes/FAIR/Virginia/FAVO/SDH/3758895/SDH8/3758895_11066947_01_041116_0009_007_Head_5_0_J40s_3_image.nii.gz',\n",
    "         '/Volumes/FAIR/Virginia/FAVO/SDH/3764350/SDH9/3764350_##_01_131116_0152_002_Head_5_0_J40s_3_image.nii.gz',\n",
    "         '/Volumes/FAIR/Virginia/FAVO/SDH/3772349/SDH10/3772349_26592_01_241116_0603_002_5mm_Brain_image.nii.gz',\n",
    "         '/Volumes/FAIR/Virginia/FAVO/SDH/3797770/SDH11/3797770_23590_01_221216_0345_002_Head_5_0_image.nii.gz',\n",
    "         '/Volumes/FAIR/Virginia/FAVO/SDH/3798130/SDH12/3798130_43976_01_040117_2338_002_Brain_2_5_5mm_SS40_image.nii.gz']"
   ]
  },
  {
   "cell_type": "code",
   "execution_count": null,
   "metadata": {
    "collapsed": true
   },
   "outputs": [],
   "source": [
    "paths = ['/Volumes/FAIR/Virginia/SamCooke/1002/SDH16/SDH16-1/ct_20215_image.nii.gz',\n",
    "         '/Volumes/FAIR/Virginia/SamCooke/1002/SDH16/SDH16-2/ct_20215_2_image.nii.gz',\n",
    "        '/Volumes/FAIR/Virginia/FAVO/SDH/1019/SDH17/ct_280315_1_image.nii.gz',\n",
    "        '/Volumes/FAIR/Virginia/FAVO/SDH/1034/SDH18/ct_1515_image.nii.gz',\n",
    "        '/Volumes/FAIR/Virginia/FAVO/SDH/1037/SDH19/ct_3515_image.nii.gz',\n",
    "        '/Volumes/FAIR/Virginia/FAVO/SDH/1038/SDH20/ct_4515_image.nii.gz',\n",
    "        '/Volumes/FAIR/Virginia/FAVO/SDH/1040/SDH21/ct_6515_image.nii.gz',\n",
    "        '/Volumes/FAIR/Virginia/FAVO/SDH/1045/SDH22/ct_23515_1_image.nii.gz',\n",
    "        '/Volumes/FAIR/Virginia/FAVO/SDH/1050/SDH23/ct_7615_1_image.nii.gz',\n",
    "        '/Volumes/FAIR/Virginia/SamCooke/1060/SDH24/ct_12715_image.nii.gz',\n",
    "        '/Volumes/FAIR/Virginia/SamCooke/1067/SDH25/ct_2815_image.nii.gz',\n",
    "        '/Volumes/FAIR/Virginia/SamCooke/1080/SDH26/ct_20915_image.nii.gz',\n",
    "        '/Volumes/FAIR/Virginia/SamCooke/1104/SDH27/ct_28116_image.nii.gz',\n",
    "        '/Volumes/FAIR/Virginia/SamCooke/1109/SDH28/ct_17216_image.nii.gz']"
   ]
  },
  {
   "cell_type": "code",
   "execution_count": null,
   "metadata": {
    "collapsed": true
   },
   "outputs": [],
   "source": [
    "paths = ['/Volumes/FAIR/Virginia/FAVO/SDH/365770/SDH1',\n",
    "         '/Volumes/FAIR/Virginia/FAVO/SDH/1777243/SDH2',\n",
    "         '/Volumes/FAIR/Virginia/FAVO/SDH/1896763/SDH3',\n",
    "         '/Volumes/FAIR/Virginia/FAVO/SDH/3708063/SDH4',\n",
    "         '/Volumes/FAIR/Virginia/FAVO/SDH/3732626/SDH5',\n",
    "         '/Volumes/FAIR/Virginia/FAVO/SDH/3737808/SDH6',\n",
    "         '/Volumes/FAIR/Virginia/FAVO/SDH/3742364/SDH7',\n",
    "         '/Volumes/FAIR/Virginia/FAVO/SDH/3758895/SDH8',\n",
    "         '/Volumes/FAIR/Virginia/FAVO/SDH/3764350/SDH9',\n",
    "         '/Volumes/FAIR/Virginia/FAVO/SDH/3772349/SDH10',\n",
    "         '/Volumes/FAIR/Virginia/FAVO/SDH/3797770/SDH11',\n",
    "         '/Volumes/FAIR/Virginia/FAVO/SDH/3798130/SDH12',\n",
    "         '/Volumes/FAIR/Virginia/FAVO/SDH/Eric_SDH/SDH14']"
   ]
  },
  {
   "cell_type": "code",
   "execution_count": null,
   "metadata": {
    "collapsed": true
   },
   "outputs": [],
   "source": [
    "paths = ['/Volumes/FAIR/Virginia/SamCooke/1002/SDH16/SDH16-1',\n",
    "         '/Volumes/FAIR/Virginia/SamCooke/1002/SDH16/SDH16-2',\n",
    "        '/Volumes/FAIR/Virginia/FAVO/SDH/1019/SDH17',\n",
    "        '/Volumes/FAIR/Virginia/FAVO/SDH/1034/SDH18',\n",
    "        '/Volumes/FAIR/Virginia/FAVO/SDH/1037/SDH19',\n",
    "        '/Volumes/FAIR/Virginia/FAVO/SDH/1038/SDH20',\n",
    "        '/Volumes/FAIR/Virginia/FAVO/SDH/1040/SDH21',\n",
    "        '/Volumes/FAIR/Virginia/FAVO/SDH/1045/SDH22',\n",
    "        '/Volumes/FAIR/Virginia/FAVO/SDH/1050/SDH23',\n",
    "        '/Volumes/FAIR/Virginia/SamCooke/1060/SDH24',\n",
    "        '/Volumes/FAIR/Virginia/SamCooke/1067/SDH25',\n",
    "        '/Volumes/FAIR/Virginia/SamCooke/1080/SDH26',\n",
    "        '/Volumes/FAIR/Virginia/SamCooke/1104/SDH27',\n",
    "        '/Volumes/FAIR/Virginia/SamCooke/1109/SDH28']"
   ]
  },
  {
   "cell_type": "markdown",
   "metadata": {},
   "source": [
    "# Virginia CONT"
   ]
  },
  {
   "cell_type": "code",
   "execution_count": 6,
   "metadata": {
    "collapsed": true
   },
   "outputs": [],
   "source": [
    "paths = ['/Volumes/FAIR/Virginia/FAVO/Cont/1003081/CONT1/1003081_14798166_01_280910_1520_002_StdBrain_4_5_H40s_image.nii.gz',\n",
    "         '/Volumes/FAIR/Virginia/FAVO/Cont/1040280/CONT2/1040280_3243472_01_260111_0047_002_Head_image.nii.gz',\n",
    "         '/Volumes/FAIR/Virginia/FAVO/Cont/1780351/CONT3/1780351_##_01_100906_1357_002_ThinSliceSeq_4_0_H40s_image.nii.gz',\n",
    "         '/Volumes/FAIR/Virginia/FAVO/Cont/1805902/CONT4/1805902_13598258_01_100407_1814_002_ThinSliceSeq_4_0_H40s_image.nii.gz',\n",
    "         '/Volumes/FAIR/Virginia/FAVO/Cont/3487946/CONT5/g_3487946_10590242_01_161215_0440_002_Head_5_0_J40s_3_image.nii.gz',\n",
    "         '/Volumes/FAIR/Virginia/FAVO/Cont/3709789/CONT6/3709789_10983549_01_110916_1552_002_Head_5_0_J40s_3_image.nii.gz',\n",
    "         '/Volumes/FAIR/Virginia/FAVO/Cont/3797961/CONT7/3797961_76845_02_010117_2344_002_Head_5_0_image.nii.gz']\n"
   ]
  },
  {
   "cell_type": "code",
   "execution_count": null,
   "metadata": {
    "collapsed": true
   },
   "outputs": [],
   "source": [
    "paths = ['/Volumes/FAIR/Virginia/FAVO/Cont/1003081/CONT1',\n",
    "         '/Volumes/FAIR/Virginia/FAVO/Cont/1040280/CONT2',\n",
    "         '/Volumes/FAIR/Virginia/FAVO/Cont/1780351/CONT3',\n",
    "         '/Volumes/FAIR/Virginia/FAVO/Cont/1805902/CONT4',\n",
    "         '/Volumes/FAIR/Virginia/FAVO/Cont/3487946/CONT5',\n",
    "         '/Volumes/FAIR/Virginia/FAVO/Cont/3709789/CONT6',\n",
    "         '/Volumes/FAIR/Virginia/FAVO/Cont/3797961/CONT7',\n",
    "         '/Volumes/FAIR/DC-Image-Analysis/python tutorials/tutorial3']\n",
    "         "
   ]
  },
  {
   "cell_type": "code",
   "execution_count": 1,
   "metadata": {
    "collapsed": true
   },
   "outputs": [],
   "source": [
    "paths = ['/Volumes/FAIR/Virginia/FAVO/Cont/CONT8/4GGc272_CT1.nii.gz',\n",
    "        '/Volumes/FAIR/Virginia/FAVO/Cont/CONT9/7MTF639_CT1.nii.gz',\n",
    "        '/Volumes/FAIR/Virginia/FAVO/Cont/1026/CONT10/ct_7415_image.nii.gz',\n",
    "        '/Volumes/FAIR/Virginia/FAVO/Cont/1029/CONT11/ct_13415_image.nii.gz',\n",
    "        '/Volumes/FAIR/Virginia/SamCooke/1061/Cont12/ct_13715_image.nii.gz',\n",
    "        '/Volumes/FAIR/Virginia/SamCooke/1065/CONT13/ct_23715_image.nii.gz',\n",
    "        '/Volumes/FAIR/Virginia/SamCooke/1069/CONT14/ct_5815_image.nii.gz',\n",
    "        '/Volumes/FAIR/Virginia/SamCooke/1070/CONT15/ct_9815_image.nii.gz',\n",
    "        '/Volumes/FAIR/Virginia/SamCooke/1072/CONT16/ct_17815_image.nii.gz',\n",
    "        '/Volumes/FAIR/Virginia/SamCooke/1081/CONT17/ct_27915_image.nii.gz',\n",
    "        '/Volumes/FAIR/Virginia/SamCooke/1093/CONT18/ct_171115_image.nii.gz',\n",
    "        '/Volumes/FAIR/Virginia/SamCooke/1111/CONT19/ct_16216_image.nii.gz']"
   ]
  },
  {
   "cell_type": "code",
   "execution_count": null,
   "metadata": {
    "collapsed": true
   },
   "outputs": [],
   "source": [
    "paths = ['/Volumes/FAIR/Virginia/FAVO/Cont/CONT8',\n",
    "        '/Volumes/FAIR/Virginia/FAVO/Cont/CONT9',\n",
    "        '/Volumes/FAIR/Virginia/FAVO/Cont/1026/CONT10',\n",
    "        '/Volumes/FAIR/Virginia/FAVO/Cont/1029/CONT11',\n",
    "        '/Volumes/FAIR/Virginia/SamCooke/1061/Cont12',\n",
    "        '/Volumes/FAIR/Virginia/SamCooke/1065/CONT13',\n",
    "        '/Volumes/FAIR/Virginia/SamCooke/1069/CONT14',\n",
    "        '/Volumes/FAIR/Virginia/SamCooke/1070/CONT15',\n",
    "        '/Volumes/FAIR/Virginia/SamCooke/1072/CONT16',\n",
    "        '/Volumes/FAIR/Virginia/SamCooke/1081/CONT17',\n",
    "        '/Volumes/FAIR/Virginia/SamCooke/1093/CONT18',\n",
    "        '/Volumes/FAIR/Virginia/SamCooke/1111/CONT19']"
   ]
  },
  {
   "cell_type": "markdown",
   "metadata": {},
   "source": [
    "## Eric's Scans for MPS analysis"
   ]
  },
  {
   "cell_type": "code",
   "execution_count": 2,
   "metadata": {
    "collapsed": true
   },
   "outputs": [],
   "source": [
    "paths = ['/Volumes/FAIR/Eric_Midlinedeliniation/MPS1/1bLs736 - 80340.nii.gz',\n",
    "         '/Volumes/FAIR/Eric_Midlinedeliniation/MPS2/1kAg181 - 2.nii.gz',\n",
    "         '/Volumes/FAIR/Eric_Midlinedeliniation/MPS3/1kvR906 - 3.nii.gz',\n",
    "         '/Volumes/FAIR/Eric_Midlinedeliniation/MPS4/1YaA080 - 3.nii.gz',\n",
    "         '/Volumes/FAIR/Eric_Midlinedeliniation/MPS5/2bai335 - 6.nii.gz',\n",
    "         '/Volumes/FAIR/Eric_Midlinedeliniation/MPS6/2bjs359 - 4.nii.gz',\n",
    "         '/Volumes/FAIR/Eric_Midlinedeliniation/MPS7/2dgm988 - 601.nii.gz',\n",
    "         '/Volumes/FAIR/Eric_Midlinedeliniation/MPS8/2FfC223 - 2.nii.gz',\n",
    "         '/Volumes/FAIR/Eric_Midlinedeliniation/MPS9/2uTT322 - 2.nii.gz',\n",
    "         '/Volumes/FAIR/Eric_Midlinedeliniation/MPS10/2VAp647 - 200.nii.gz',\n",
    "         '/Volumes/FAIR/Eric_Midlinedeliniation/MPS11/2viJ294 - 2.nii.gz',\n",
    "         ]"
   ]
  },
  {
   "cell_type": "code",
   "execution_count": 3,
   "metadata": {
    "collapsed": true
   },
   "outputs": [],
   "source": [
    "paths = ['/Volumes/FAIR/Eric_Midlinedeliniation/MPS1/mls.nii.gz',\n",
    "         '/Volumes/FAIR/Eric_Midlinedeliniation/MPS2/mls.nii.gz',\n",
    "         '/Volumes/FAIR/Eric_Midlinedeliniation/MPS3/mls.nii.gz',\n",
    "         '/Volumes/FAIR/Eric_Midlinedeliniation/MPS4/mls.nii.gz',\n",
    "         '/Volumes/FAIR/Eric_Midlinedeliniation/MPS5/mls.nii.gz',\n",
    "         '/Volumes/FAIR/Eric_Midlinedeliniation/MPS6/mls.nii.gz',\n",
    "         '/Volumes/FAIR/Eric_Midlinedeliniation/MPS7/mls.nii.gz',\n",
    "         '/Volumes/FAIR/Eric_Midlinedeliniation/MPS8/mls.nii.gz',\n",
    "         '/Volumes/FAIR/Eric_Midlinedeliniation/MPS9/mls.nii.gz',\n",
    "         '/Volumes/FAIR/Eric_Midlinedeliniation/MPS10/mls.nii.gz',\n",
    "         '/Volumes/FAIR/Eric_Midlinedeliniation/MPS11/mls.nii.gz']"
   ]
  },
  {
   "cell_type": "markdown",
   "metadata": {},
   "source": [
    "# Label description for SamCook"
   ]
  },
  {
   "cell_type": "code",
   "execution_count": null,
   "metadata": {
    "collapsed": true
   },
   "outputs": [],
   "source": [
    "SDH = len(np.where(seg_array1==2)[0])*ConstPixelSpacing[0]*ConstPixelSpacing[1]*ConstPixelSpacing[2]\n",
    "EDH = len(np.where(seg_array1==3)[0])*ConstPixelSpacing[0]*ConstPixelSpacing[1]*ConstPixelSpacing[2]\n",
    "SAH = len(np.where(seg_array1==13)[0])*ConstPixelSpacing[0]*ConstPixelSpacing[1]*ConstPixelSpacing[2]\n",
    "Pneu = len(np.where(seg_array1==43)[0])*ConstPixelSpacing[0]*ConstPixelSpacing[1]*ConstPixelSpacing[2]\n",
    "Contusion_Core = len(np.where(seg_array1==19)[0])*ConstPixelSpacing[0]*ConstPixelSpacing[1]*ConstPixelSpacing[2]\n",
    "Oedema = len(np.where(seg_array1==7)[0])*ConstPixelSpacing[0]*ConstPixelSpacing[1]*ConstPixelSpacing[2]"
   ]
  },
  {
   "cell_type": "markdown",
   "metadata": {},
   "source": [
    "# Label description for FAVO"
   ]
  },
  {
   "cell_type": "code",
   "execution_count": 1,
   "metadata": {
    "collapsed": false
   },
   "outputs": [
    {
     "ename": "NameError",
     "evalue": "name 'np' is not defined",
     "output_type": "error",
     "traceback": [
      "\u001b[0;31m---------------------------------------------------------------------------\u001b[0m",
      "\u001b[0;31mNameError\u001b[0m                                 Traceback (most recent call last)",
      "\u001b[0;32m<ipython-input-1-4f0e9a97aad0>\u001b[0m in \u001b[0;36m<module>\u001b[0;34m()\u001b[0m\n\u001b[0;32m----> 1\u001b[0;31m \u001b[0maSDH\u001b[0m \u001b[0;34m=\u001b[0m \u001b[0mlen\u001b[0m\u001b[0;34m(\u001b[0m\u001b[0mnp\u001b[0m\u001b[0;34m.\u001b[0m\u001b[0mwhere\u001b[0m\u001b[0;34m(\u001b[0m\u001b[0mseg_array1\u001b[0m\u001b[0;34m==\u001b[0m\u001b[0;36m2\u001b[0m\u001b[0;34m)\u001b[0m\u001b[0;34m[\u001b[0m\u001b[0;36m0\u001b[0m\u001b[0;34m]\u001b[0m\u001b[0;34m)\u001b[0m\u001b[0;34m*\u001b[0m\u001b[0mConstPixelSpacing\u001b[0m\u001b[0;34m[\u001b[0m\u001b[0;36m0\u001b[0m\u001b[0;34m]\u001b[0m\u001b[0;34m*\u001b[0m\u001b[0mConstPixelSpacing\u001b[0m\u001b[0;34m[\u001b[0m\u001b[0;36m1\u001b[0m\u001b[0;34m]\u001b[0m\u001b[0;34m*\u001b[0m\u001b[0mConstPixelSpacing\u001b[0m\u001b[0;34m[\u001b[0m\u001b[0;36m2\u001b[0m\u001b[0;34m]\u001b[0m\u001b[0;34m\u001b[0m\u001b[0m\n\u001b[0m\u001b[1;32m      2\u001b[0m \u001b[0msub_acuteSDH\u001b[0m \u001b[0;34m=\u001b[0m \u001b[0mlen\u001b[0m\u001b[0;34m(\u001b[0m\u001b[0mnp\u001b[0m\u001b[0;34m.\u001b[0m\u001b[0mwhere\u001b[0m\u001b[0;34m(\u001b[0m\u001b[0mseg_array1\u001b[0m\u001b[0;34m==\u001b[0m\u001b[0;36m7\u001b[0m\u001b[0;34m)\u001b[0m\u001b[0;34m[\u001b[0m\u001b[0;36m0\u001b[0m\u001b[0;34m]\u001b[0m\u001b[0;34m)\u001b[0m\u001b[0;34m*\u001b[0m\u001b[0mConstPixelSpacing\u001b[0m\u001b[0;34m[\u001b[0m\u001b[0;36m0\u001b[0m\u001b[0;34m]\u001b[0m\u001b[0;34m*\u001b[0m\u001b[0mConstPixelSpacing\u001b[0m\u001b[0;34m[\u001b[0m\u001b[0;36m1\u001b[0m\u001b[0;34m]\u001b[0m\u001b[0;34m*\u001b[0m\u001b[0mConstPixelSpacing\u001b[0m\u001b[0;34m[\u001b[0m\u001b[0;36m2\u001b[0m\u001b[0;34m]\u001b[0m\u001b[0;34m\u001b[0m\u001b[0m\n\u001b[1;32m      3\u001b[0m \u001b[0mchronic_SDH\u001b[0m \u001b[0;34m=\u001b[0m \u001b[0mlen\u001b[0m\u001b[0;34m(\u001b[0m\u001b[0mnp\u001b[0m\u001b[0;34m.\u001b[0m\u001b[0mwhere\u001b[0m\u001b[0;34m(\u001b[0m\u001b[0mseg_array1\u001b[0m\u001b[0;34m==\u001b[0m\u001b[0;36m8\u001b[0m\u001b[0;34m)\u001b[0m\u001b[0;34m[\u001b[0m\u001b[0;36m0\u001b[0m\u001b[0;34m]\u001b[0m\u001b[0;34m)\u001b[0m\u001b[0;34m*\u001b[0m\u001b[0mConstPixelSpacing\u001b[0m\u001b[0;34m[\u001b[0m\u001b[0;36m0\u001b[0m\u001b[0;34m]\u001b[0m\u001b[0;34m*\u001b[0m\u001b[0mConstPixelSpacing\u001b[0m\u001b[0;34m[\u001b[0m\u001b[0;36m1\u001b[0m\u001b[0;34m]\u001b[0m\u001b[0;34m*\u001b[0m\u001b[0mConstPixelSpacing\u001b[0m\u001b[0;34m[\u001b[0m\u001b[0;36m2\u001b[0m\u001b[0;34m]\u001b[0m\u001b[0;34m\u001b[0m\u001b[0m\n\u001b[1;32m      4\u001b[0m \u001b[0mEDH\u001b[0m \u001b[0;34m=\u001b[0m \u001b[0mlen\u001b[0m\u001b[0;34m(\u001b[0m\u001b[0mnp\u001b[0m\u001b[0;34m.\u001b[0m\u001b[0mwhere\u001b[0m\u001b[0;34m(\u001b[0m\u001b[0mseg_array1\u001b[0m\u001b[0;34m==\u001b[0m\u001b[0;36m4\u001b[0m\u001b[0;34m)\u001b[0m\u001b[0;34m[\u001b[0m\u001b[0;36m0\u001b[0m\u001b[0;34m]\u001b[0m\u001b[0;34m)\u001b[0m\u001b[0;34m*\u001b[0m\u001b[0mConstPixelSpacing\u001b[0m\u001b[0;34m[\u001b[0m\u001b[0;36m0\u001b[0m\u001b[0;34m]\u001b[0m\u001b[0;34m*\u001b[0m\u001b[0mConstPixelSpacing\u001b[0m\u001b[0;34m[\u001b[0m\u001b[0;36m1\u001b[0m\u001b[0;34m]\u001b[0m\u001b[0;34m*\u001b[0m\u001b[0mConstPixelSpacing\u001b[0m\u001b[0;34m[\u001b[0m\u001b[0;36m2\u001b[0m\u001b[0;34m]\u001b[0m\u001b[0;34m\u001b[0m\u001b[0m\n\u001b[1;32m      5\u001b[0m \u001b[0mSAH\u001b[0m \u001b[0;34m=\u001b[0m \u001b[0mlen\u001b[0m\u001b[0;34m(\u001b[0m\u001b[0mnp\u001b[0m\u001b[0;34m.\u001b[0m\u001b[0mwhere\u001b[0m\u001b[0;34m(\u001b[0m\u001b[0mseg_array1\u001b[0m\u001b[0;34m==\u001b[0m\u001b[0;36m9\u001b[0m\u001b[0;34m)\u001b[0m\u001b[0;34m[\u001b[0m\u001b[0;36m0\u001b[0m\u001b[0;34m]\u001b[0m\u001b[0;34m)\u001b[0m\u001b[0;34m*\u001b[0m\u001b[0mConstPixelSpacing\u001b[0m\u001b[0;34m[\u001b[0m\u001b[0;36m0\u001b[0m\u001b[0;34m]\u001b[0m\u001b[0;34m*\u001b[0m\u001b[0mConstPixelSpacing\u001b[0m\u001b[0;34m[\u001b[0m\u001b[0;36m1\u001b[0m\u001b[0;34m]\u001b[0m\u001b[0;34m*\u001b[0m\u001b[0mConstPixelSpacing\u001b[0m\u001b[0;34m[\u001b[0m\u001b[0;36m2\u001b[0m\u001b[0;34m]\u001b[0m\u001b[0;34m\u001b[0m\u001b[0m\n",
      "\u001b[0;31mNameError\u001b[0m: name 'np' is not defined"
     ]
    }
   ],
   "source": [
    "aSDH = len(np.where(seg_array1==2)[0])*ConstPixelSpacing[0]*ConstPixelSpacing[1]*ConstPixelSpacing[2]\n",
    "sub_acuteSDH = len(np.where(seg_array1==7)[0])*ConstPixelSpacing[0]*ConstPixelSpacing[1]*ConstPixelSpacing[2]\n",
    "chronic_SDH = len(np.where(seg_array1==8)[0])*ConstPixelSpacing[0]*ConstPixelSpacing[1]*ConstPixelSpacing[2]\n",
    "EDH = len(np.where(seg_array1==4)[0])*ConstPixelSpacing[0]*ConstPixelSpacing[1]*ConstPixelSpacing[2]\n",
    "SAH = len(np.where(seg_array1==9)[0])*ConstPixelSpacing[0]*ConstPixelSpacing[1]*ConstPixelSpacing[2]\n",
    "Pneu = len(np.where(seg_array1==3)[0])*ConstPixelSpacing[0]*ConstPixelSpacing[1]*ConstPixelSpacing[2]\n",
    "Contusion_Core = len(np.where(seg_array1==12)[0])*ConstPixelSpacing[0]*ConstPixelSpacing[1]*ConstPixelSpacing[2]\n",
    "PCont_Oedema = len(np.where(seg_array1==13)[0])*ConstPixelSpacing[0]*ConstPixelSpacing[1]*ConstPixelSpacing[2]\n",
    "\n",
    "Intracerebral_haemorrhage = len(np.where(seg_array1==15)[0])*ConstPixelSpacing[0]*ConstPixelSpacing[1]*ConstPixelSpacing[2]\n",
    "Intraventricular_haemorrhage = len(np.where(seg_array1==16)[0])*ConstPixelSpacing[0]*ConstPixelSpacing[1]*ConstPixelSpacing[2]\n",
    "oedema = len(np.where(seg_array1==25)[0])*ConstPixelSpacing[0]*ConstPixelSpacing[1]*ConstPixelSpacing[2]\n",
    "\n"
   ]
  },
  {
   "cell_type": "code",
   "execution_count": null,
   "metadata": {
    "collapsed": true
   },
   "outputs": [],
   "source": [
    "# From real to reshape coordinate\n",
    "RLoc4 = Functions.unit_vector(np.divide(RLoc4,ConstPixelSpacing))\n",
    "# From reshape to real coordinate\n",
    "RLoc4 = Functions.unit_vector(np.multiply(RLoc4,ConstPixelSpacing))"
   ]
  }
 ],
 "metadata": {
  "kernelspec": {
   "display_name": "Python 2",
   "language": "python",
   "name": "python2"
  },
  "language_info": {
   "codemirror_mode": {
    "name": "ipython",
    "version": 2
   },
   "file_extension": ".py",
   "mimetype": "text/x-python",
   "name": "python",
   "nbconvert_exporter": "python",
   "pygments_lexer": "ipython2",
   "version": "2.7.13"
  }
 },
 "nbformat": 4,
 "nbformat_minor": 2
}
