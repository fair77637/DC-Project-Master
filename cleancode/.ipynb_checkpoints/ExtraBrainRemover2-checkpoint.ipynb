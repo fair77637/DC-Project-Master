{
 "cells": [
  {
   "cell_type": "code",
   "execution_count": null,
   "metadata": {
    "collapsed": false
   },
   "outputs": [],
   "source": [
    "import os\n",
    "os.chdir('/Volumes/FAIR/DC-Image-Analysis/DC-project-master/cleancode')\n",
    "import matplotlib\n",
    "import matplotlib.pyplot as plt\n",
    "plt.ioff()\n",
    "import numpy as np\n",
    "%matplotlib inline\n",
    "import skimage\n",
    "import plotly \n",
    "plotly.offline.init_notebook_mode()\n",
    "import findeyes\n",
    "import nibabel as nib\n",
    "import core\n",
    "import scipy\n",
    "from scipy import ndimage\n",
    "import SimpleITK as sitk\n",
    "import nipype.interfaces.fsl as fsl\n",
    "from scipy.ndimage.morphology import binary_erosion as be\n",
    "from scipy.ndimage.morphology import binary_fill_holes as bfh\n",
    "from scipy.ndimage.morphology import binary_dilation as bd\n",
    "from scipy.ndimage.morphology import binary_opening as bo\n",
    "from scipy.ndimage.morphology import binary_closing as bc\n",
    "from scipy.ndimage.morphology import grey_dilation as gd\n",
    "\n",
    "\n",
    "\n",
    "paths = ['/Users/fair00542/Desktop/TestImages/ScanF/ScanF/1.3.12.2.1107.5.1.4.95198.30000015061008243097400047435.dcm',\n",
    "        '/Users/fair00542/Desktop/TestImages/ScanH/ScanH/1.3.12.2.1107.5.1.4.95198.30000015072708211605400036461.dcm',\n",
    "        '/Volumes/FAIR/Sinead/DC-Project-Images/original/SampleB/SB_Pre-op.nrrd',\n",
    "        '/Volumes/FAIR/Sinead/DC-Project-Images/original/SampleF/SF_Pre-op.nrrd',\n",
    "         '/Volumes/FAIR/Sinead/DC-Project-Images/original/SampleI/SI_Pre-op.nrrd',\n",
    "        '/Users/fair00542/Desktop/TestImages/ScanJ/ScanJ/1.2.392.200036.9116.2.6.1.48.1221600807.1432222434.802585.dcm']\n",
    "path = paths[5]"
   ]
  },
  {
   "cell_type": "code",
   "execution_count": 110,
   "metadata": {
    "collapsed": true
   },
   "outputs": [],
   "source": [
    "import nibabel as nib\n",
    "image = nib.load('/Users/fair00542/Desktop/TestImages/ScanJ/Wholebrain.nii.gz')\n",
    "brain_mask = image.get_data()\n",
    "\n",
    "from skimage import filters\n",
    "def BiggestRegion(slice):\n",
    "    labels,num = skimage.measure.label(slice, connectivity=2,return_num='Ture')\n",
    "    if num>1:\n",
    "        props = skimage.measure.regionprops(labels)\n",
    "        b = [p.area for p in props]\n",
    "        ind = b.index(max(b))\n",
    "        bcoords = props[ind].coords\n",
    "        b_loop = np.zeros((slice.shape))\n",
    "        for j in range(len(bcoords)):\n",
    "                a,b = bcoords[j]\n",
    "                b_loop[a,b]=1\n",
    "                slice = b_loop\n",
    "    else:\n",
    "         slice = slice     \n",
    "            \n",
    "    return slice"
   ]
  },
  {
   "cell_type": "code",
   "execution_count": 108,
   "metadata": {
    "collapsed": false
   },
   "outputs": [
    {
     "name": "stdout",
     "output_type": "stream",
     "text": [
      "153\n",
      "154\n",
      "155\n",
      "156\n",
      "157\n",
      "158\n",
      "159\n",
      "160\n",
      "161\n",
      "162\n",
      "163\n",
      "164\n",
      "165\n",
      "166\n",
      "167\n",
      "168\n",
      "169\n",
      "170\n",
      "171\n",
      "172\n",
      "173\n",
      "174\n",
      "175\n",
      "176\n",
      "177\n",
      "178\n",
      "179\n",
      "180\n",
      "181\n",
      "182\n",
      "183\n",
      "184\n",
      "185\n",
      "186\n",
      "187\n",
      "188\n",
      "189\n",
      "190\n",
      "191\n",
      "192\n",
      "193\n",
      "194\n",
      "195\n",
      "196\n",
      "197\n",
      "198\n",
      "199\n",
      "200\n",
      "201\n",
      "202\n",
      "203\n",
      "204\n",
      "205\n",
      "206\n",
      "207\n",
      "208\n",
      "209\n",
      "210\n",
      "211\n",
      "212\n",
      "213\n",
      "214\n",
      "215\n",
      "216\n",
      "217\n",
      "218\n",
      "219\n",
      "220\n",
      "221\n",
      "222\n",
      "223\n",
      "224\n",
      "225\n",
      "226\n",
      "227\n",
      "228\n",
      "229\n",
      "230\n",
      "231\n",
      "232\n",
      "233\n",
      "234\n",
      "235\n",
      "236\n",
      "237\n",
      "238\n",
      "239\n",
      "240\n",
      "241\n",
      "242\n",
      "243\n",
      "244\n",
      "245\n",
      "246\n",
      "247\n",
      "248\n",
      "249\n",
      "250\n",
      "251\n",
      "252\n",
      "253\n",
      "254\n",
      "255\n",
      "256\n",
      "257\n",
      "258\n",
      "259\n",
      "260\n",
      "261\n",
      "262\n",
      "263\n",
      "264\n",
      "265\n",
      "266\n",
      "267\n",
      "268\n",
      "269\n",
      "270\n",
      "271\n",
      "272\n",
      "273\n",
      "274\n",
      "275\n",
      "276\n",
      "277\n",
      "278\n",
      "279\n",
      "280\n",
      "281\n",
      "282\n",
      "283\n",
      "284\n",
      "285\n",
      "286\n",
      "287\n",
      "288\n",
      "289\n",
      "290\n",
      "291\n",
      "292\n",
      "293\n",
      "294\n",
      "295\n",
      "296\n",
      "297\n",
      "298\n",
      "299\n",
      "300\n",
      "301\n",
      "302\n",
      "303\n",
      "304\n",
      "305\n",
      "306\n",
      "307\n",
      "308\n",
      "309\n",
      "310\n",
      "311\n",
      "312\n",
      "313\n",
      "314\n",
      "315\n",
      "316\n",
      "317\n",
      "318\n",
      "319\n",
      "320\n",
      "321\n",
      "322\n",
      "323\n",
      "324\n",
      "325\n",
      "326\n",
      "327\n",
      "328\n",
      "329\n",
      "330\n",
      "331\n",
      "332\n",
      "333\n",
      "334\n",
      "335\n",
      "336\n",
      "337\n",
      "338\n",
      "339\n",
      "340\n",
      "341\n",
      "342\n",
      "343\n",
      "344\n",
      "345\n",
      "346\n",
      "347\n",
      "348\n",
      "349\n",
      "350\n",
      "351\n",
      "352\n",
      "353\n",
      "354\n",
      "355\n",
      "356\n",
      "357\n",
      "358\n",
      "359\n",
      "360\n",
      "361\n",
      "362\n",
      "363\n",
      "364\n",
      "365\n",
      "366\n",
      "367\n",
      "368\n",
      "369\n",
      "370\n",
      "371\n",
      "372\n",
      "373\n",
      "374\n",
      "375\n",
      "376\n",
      "377\n",
      "378\n",
      "379\n",
      "380\n",
      "381\n",
      "382\n",
      "383\n"
     ]
    }
   ],
   "source": [
    "Sta = int(brain_mask.shape[0]*0.3)\n",
    "End = int(brain_mask.shape[0]*0.75)\n",
    "for i in range(Sta,End):\n",
    "# for i in range(204,330):\n",
    "    print(i)\n",
    "    k = brain_mask[i,:,:]\n",
    "    brain_mask[i,:,:] = BiggestRegion(k)\n",
    "# for i in range(195,270):\n",
    "#     print(i)\n",
    "#     k = brain_mask[:,i,:]\n",
    "#     brain_mask[:,i,:] = BiggestRegion(k)"
   ]
  },
  {
   "cell_type": "code",
   "execution_count": 114,
   "metadata": {
    "collapsed": false
   },
   "outputs": [],
   "source": [
    "def saveMask(array, path, name):\n",
    "    mask = array.astype(np.float64)\n",
    "#     mask = np.swapaxes(mask, 0, 1)\n",
    "    img = nib.Nifti1Image(mask, affine)\n",
    "    savePath = os.path.join(os.path.split(path)[0], '{}.nii.gz'.format(name))\n",
    "    nib.save(img, savePath)\n",
    "    \n",
    "saveMask(brain_mask1,path,'edit')"
   ]
  },
  {
   "cell_type": "code",
   "execution_count": 113,
   "metadata": {
    "collapsed": false
   },
   "outputs": [
    {
     "data": {
      "image/png": "[encoded data removed]",
      "text/plain": [
       "<matplotlib.figure.Figure at 0x1120bd810>"
      ]
     },
     "metadata": {},
     "output_type": "display_data"
    }
   ],
   "source": [
    "# image = nib.load('/Volumes/FAIR/Sinead/DC-Project-Images/original/SampleI/edit.nii.gz')\n",
    "# brain_mask1 = image.get_data()\n",
    "brain_mask1[:,:,64:89] = brain_mask[:,:,64:89]\n",
    "plt.figure(figsize=(16, 5))\n",
    "plt.subplot(141)\n",
    "plt.imshow(brain_mask1[:,153,:])\n",
    "plt.subplot(142)\n",
    "plt.imshow(brain_mask1[:,163,:])\n",
    "plt.show()"
   ]
  },
  {
   "cell_type": "code",
   "execution_count": 6,
   "metadata": {
    "collapsed": false
   },
   "outputs": [
    {
     "data": {
      "image/png": "[encoded data removed]",
      "text/plain": [
       "<matplotlib.figure.Figure at 0x121150590>"
      ]
     },
     "metadata": {},
     "output_type": "display_data"
    }
   ],
   "source": [
    "findeyes.checkcoords(c1,c2,array)"
   ]
  },
  {
   "cell_type": "code",
   "execution_count": 17,
   "metadata": {
    "collapsed": false
   },
   "outputs": [
    {
     "data": {
      "text/plain": [
       "(array([ 121.13151365,  234.36228288,  168.68131868]),\n",
       " array([ 159.87096774,  380.90322581,  149.375     ]))"
      ]
     },
     "execution_count": 17,
     "metadata": {},
     "output_type": "execute_result"
    }
   ],
   "source": [
    "# ScanF\n",
    "c1,c2"
   ]
  },
  {
   "cell_type": "markdown",
   "metadata": {},
   "source": [
    "num"
   ]
  },
  {
   "cell_type": "code",
   "execution_count": 20,
   "metadata": {
    "collapsed": false
   },
   "outputs": [
    {
     "data": {
      "text/plain": [
       "(array([[  98.8,  148.2],\n",
       "        [ 197.6,  247. ],\n",
       "        [ 231.6,  270.2]]), array([[ 148.2,  197.6],\n",
       "        [ 345.8,  395.2],\n",
       "        [ 193. ,  231.6]]))"
      ]
     },
     "execution_count": 20,
     "metadata": {},
     "output_type": "execute_result"
    }
   ],
   "source": [
    "secondEyeRange# ScanF\n",
    "firstEyeRange,secondEyeRange"
   ]
  },
  {
   "cell_type": "code",
   "execution_count": 22,
   "metadata": {
    "collapsed": false
   },
   "outputs": [
    {
     "data": {
      "text/plain": [
       "(array([ 104.88191321,  175.97047428,   20.83152473]),\n",
       " array([ 234.95639098,  342.95633088,   55.74847852]),\n",
       " array([[  91.6,  137.4],\n",
       "        [ 137.4,  183.2],\n",
       "        [  30.2,   60.4]]),\n",
       " array([[ 183.2,  229. ],\n",
       "        [ 274.8,  320.6],\n",
       "        [ 120.8,  151. ]]))"
      ]
     },
     "execution_count": 22,
     "metadata": {},
     "output_type": "execute_result"
    }
   ],
   "source": [
    "# ScanH\n",
    "c1,c2,firstEyeRange,secondEyeRange"
   ]
  },
  {
   "cell_type": "code",
   "execution_count": 2,
   "metadata": {
    "collapsed": false
   },
   "outputs": [
    {
     "data": {
      "text/plain": [
       "197.59999999999999"
      ]
     },
     "execution_count": 2,
     "metadata": {},
     "output_type": "execute_result"
    }
   ],
   "source": [
    "firstEyeRange[1,0]"
   ]
  },
  {
   "cell_type": "code",
   "execution_count": null,
   "metadata": {
    "collapsed": true
   },
   "outputs": [],
   "source": []
  }
 ],
 "metadata": {
  "kernelspec": {
   "display_name": "Python 2",
   "language": "python",
   "name": "python2"
  },
  "language_info": {
   "codemirror_mode": {
    "name": "ipython",
    "version": 2
   },
   "file_extension": ".py",
   "mimetype": "text/x-python",
   "name": "python",
   "nbconvert_exporter": "python",
   "pygments_lexer": "ipython2",
   "version": "2.7.13"
  }
 },
 "nbformat": 4,
 "nbformat_minor": 2
}
