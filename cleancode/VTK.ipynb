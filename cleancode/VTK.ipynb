{
 "cells": [
  {
   "cell_type": "code",
   "execution_count": 9,
   "metadata": {
    "collapsed": true
   },
   "outputs": [],
   "source": [
    "import core\n",
    "pixelspacing = []\n",
    "paths = ['/Users/fair00542/Desktop/DC Image Analysis/TestImages/ScanB/ScanB/1.3.12.2.1107.5.1.4.51967.30000014110308064564000003547.dcm', \n",
    "        '/Users/fair00542/Desktop/DC Image Analysis/TestImages/ScanC/ScanC/1.3.12.2.1107.5.1.4.95198.30000014121008232151100020391.dcm',\n",
    "        '/Users/fair00542/Desktop/DC Image Analysis/TestImages/ScanD/ScanD/1.3.12.2.1107.5.1.4.95198.30000015040208110913600035431.dcm',\n",
    "        '/Users/fair00542/Desktop/DC Image Analysis/TestImages/ScanE/ScanE/1.3.12.2.1107.5.1.4.95198.30000015040208110913600035427.dcm',\n",
    "        '/Users/fair00542/Desktop/DC Image Analysis/TestImages/ScanF/ScanF/1.3.12.2.1107.5.1.4.95198.30000015061008243097400047435.dcm',\n",
    "        '/Users/fair00542/Desktop/DC Image Analysis/TestImages/ScanG/ScanG/1.3.12.2.1107.5.1.4.95198.30000015051507521609300034665.dcm',\n",
    "        '/Users/fair00542/Desktop/DC Image Analysis/TestImages/ScanH/ScanH/1.3.12.2.1107.5.1.4.95198.30000015072708211605400036461.dcm',\n",
    "        '/Users/fair00542/Desktop/DC Image Analysis/TestImages/ScanI/ScanI/1.3.12.2.1107.5.1.4.95198.30000015071109310409300075672.dcm',\n",
    "        '/Users/fair00542/Desktop/DC Image Analysis/TestImages/ScanJ/ScanJ/1.2.392.200036.9116.2.6.1.48.1221600807.1432222434.802585.dcm']\n",
    "path = paths[3]\n",
    "if path.endswith('.dcm'):\n",
    "    array, ConstPixelSpacing, origin, path, affine = core.dicom2np(path)\n",
    "    #bone = core.thresholdnp(array, 900, 1500)\n",
    "    #softtissue  = core.thresholdnp(array, 0, 80)\n",
    "    pixelspacing.append(ConstPixelSpacing)\n",
    "    "
   ]
  },
  {
   "cell_type": "code",
   "execution_count": 17,
   "metadata": {
    "collapsed": false
   },
   "outputs": [
    {
     "data": {
      "text/plain": [
       "array([[  -0.        ,   -0.45703125,   -0.        ,  149.77148438],\n",
       "       [  -0.45703125,   -0.        ,   -0.        ,  343.77148438],\n",
       "       [  -0.        ,   -0.        ,    0.7       , -418.5       ],\n",
       "       [   0.        ,    0.        ,    0.        ,    1.        ]])"
      ]
     },
     "execution_count": 17,
     "metadata": {},
     "output_type": "execute_result"
    }
   ],
   "source": [
    "affine"
   ]
  },
  {
   "cell_type": "code",
   "execution_count": 13,
   "metadata": {
    "collapsed": false
   },
   "outputs": [
    {
     "data": {
      "text/plain": [
       "'1.5'"
      ]
     },
     "execution_count": 13,
     "metadata": {},
     "output_type": "execute_result"
    }
   ],
   "source": [
    "RefDs = dicom.read_file('/Users/fair00542/Desktop/DC Image Analysis/TestImages/ScanB/ScanB/1.3.12.2.1107.5.1.4.51967.30000014110308064564000003547.dcm')\n",
    "RefDs.SliceThickness\n",
    "\n"
   ]
  },
  {
   "cell_type": "code",
   "execution_count": 14,
   "metadata": {
    "collapsed": false
   },
   "outputs": [
    {
     "data": {
      "text/plain": [
       "['0.453125', '0.453125']"
      ]
     },
     "execution_count": 14,
     "metadata": {},
     "output_type": "execute_result"
    }
   ],
   "source": [
    "RefDs.PixelSpacing"
   ]
  },
  {
   "cell_type": "code",
   "execution_count": null,
   "metadata": {
    "collapsed": true
   },
   "outputs": [],
   "source": []
  }
 ],
 "metadata": {
  "kernelspec": {
   "display_name": "Python 2",
   "language": "python",
   "name": "python2"
  },
  "language_info": {
   "codemirror_mode": {
    "name": "ipython",
    "version": 2
   },
   "file_extension": ".py",
   "mimetype": "text/x-python",
   "name": "python",
   "nbconvert_exporter": "python",
   "pygments_lexer": "ipython2",
   "version": "2.7.13"
  }
 },
 "nbformat": 4,
 "nbformat_minor": 2
}
